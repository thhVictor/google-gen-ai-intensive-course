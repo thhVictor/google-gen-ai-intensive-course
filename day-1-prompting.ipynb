{
 "cells": [
  {
   "cell_type": "markdown",
   "id": "9a38b72c",
   "metadata": {
    "id": "jkxRSYjzA1oX",
    "papermill": {
     "duration": 0.014567,
     "end_time": "2025-04-02T11:41:43.088142",
     "exception": false,
     "start_time": "2025-04-02T11:41:43.073575",
     "status": "completed"
    },
    "tags": []
   },
   "source": [
    "##### Copyright 2025 Google LLC."
   ]
  },
  {
   "cell_type": "code",
   "execution_count": 1,
   "id": "232975f8",
   "metadata": {
    "cellView": "form",
    "execution": {
     "iopub.execute_input": "2025-04-02T11:41:43.117647Z",
     "iopub.status.busy": "2025-04-02T11:41:43.117231Z",
     "iopub.status.idle": "2025-04-02T11:41:43.123549Z",
     "shell.execute_reply": "2025-04-02T11:41:43.122520Z"
    },
    "id": "5u5OZ2ShA3BA",
    "jupyter": {
     "source_hidden": true
    },
    "papermill": {
     "duration": 0.022861,
     "end_time": "2025-04-02T11:41:43.125836",
     "exception": false,
     "start_time": "2025-04-02T11:41:43.102975",
     "status": "completed"
    },
    "tags": []
   },
   "outputs": [],
   "source": [
    "# @title Licensed under the Apache License, Version 2.0 (the \"License\");\n",
    "# you may not use this file except in compliance with the License.\n",
    "# You may obtain a copy of the License at\n",
    "#\n",
    "# https://www.apache.org/licenses/LICENSE-2.0\n",
    "#\n",
    "# Unless required by applicable law or agreed to in writing, software\n",
    "# distributed under the License is distributed on an \"AS IS\" BASIS,\n",
    "# WITHOUT WARRANTIES OR CONDITIONS OF ANY KIND, either express or implied.\n",
    "# See the License for the specific language governing permissions and\n",
    "# limitations under the License."
   ]
  },
  {
   "cell_type": "markdown",
   "id": "aa7f8b4c",
   "metadata": {
    "id": "csNPnkuCobmG",
    "papermill": {
     "duration": 0.012623,
     "end_time": "2025-04-02T11:41:43.151537",
     "exception": false,
     "start_time": "2025-04-02T11:41:43.138914",
     "status": "completed"
    },
    "tags": []
   },
   "source": [
    "# Day 1 - Prompting\n",
    "\n",
    "Welcome to the Kaggle 5-day Generative AI course!\n",
    "\n",
    "This notebook will show you how to get started with the Gemini API and walk you through some of the example prompts and techniques that you can also read about in the Prompting whitepaper. You don't need to read the whitepaper to use this notebook, but the papers will give you some theoretical context and background to complement this interactive notebook.\n",
    "\n",
    "\n",
    "## Before you begin\n",
    "\n",
    "In this notebook, you'll start exploring prompting using the Python SDK and AI Studio. For some inspiration, you might enjoy exploring some apps that have been built using the Gemini family of models. Here are a few that we like, and we think you will too.\n",
    "\n",
    "* [TextFX](https://textfx.withgoogle.com/) is a suite of AI-powered tools for rappers, made in collaboration with Lupe Fiasco,\n",
    "* [SQL Talk](https://sql-talk-r5gdynozbq-uc.a.run.app/) shows how you can talk directly to a database using the Gemini API,\n",
    "* [NotebookLM](https://notebooklm.google/) uses Gemini models to build your own personal AI research assistant.\n",
    "\n",
    "\n",
    "## For help\n",
    "\n",
    "**Common issues are covered in the [FAQ and troubleshooting guide](https://www.kaggle.com/code/markishere/day-0-troubleshooting-and-faqs).**\n",
    "\n",
    "## New for Gemini 2.0!\n",
    "\n",
    "This course material was first launched in November 2024. The AI and LLM space is moving incredibly fast, so we have made some updates to use the latest models and capabilities.\n",
    "\n",
    "* These codelabs have been updated to use the Gemini 2.0 family of models.\n",
    "* The Python SDK has been updated from `google-generativeai` to the new, unified [`google-genai`](https://pypi.org/project/google-genai) SDK.\n",
    "  * This new SDK works with both the developer Gemini API as well as Google Cloud Vertex AI, and switching is [as simple as changing some fields](https://pypi.org/project/google-genai/#:~:text=.Client%28%29-,API%20Selection,-By%20default%2C%20the).\n",
    "* New model capabilities have been added to the relevant codelabs, such as \"thinking mode\" in this lab.\n",
    "* Day 1 includes a new [Evaluation codelab](https://www.kaggle.com/code/markishere/day-1-evaluation-and-structured-output)."
   ]
  },
  {
   "attachments": {
    "d8299597-f771-4195-ac94-1d6f658ef2bd.png": {
     "image/png": "[encoded data removed]"
    },
    "ed25e346-2e15-4ab0-bc22-503eb1845e66.png": {
     "image/png": "[encoded data removed]"
    }
   },
   "cell_type": "markdown",
   "id": "3b773a64",
   "metadata": {
    "id": "f00ea7c99e44",
    "papermill": {
     "duration": 0.012393,
     "end_time": "2025-04-02T11:41:43.176762",
     "exception": false,
     "start_time": "2025-04-02T11:41:43.164369",
     "status": "completed"
    },
    "tags": []
   },
   "source": [
    "## Get started with Kaggle notebooks\n",
    "\n",
    "If this is your first time using a Kaggle notebook, welcome! You can read about how to use Kaggle notebooks [in the docs](https://www.kaggle.com/docs/notebooks).\n",
    "\n",
    "First, you will need to phone verify your account at kaggle.com/settings.\n",
    "\n",
    "![](https://storage.googleapis.com/kaggle-media/Images/5dgai_0.png)"
   ]
  },
  {
   "cell_type": "markdown",
   "id": "d23f9e10",
   "metadata": {
    "papermill": {
     "duration": 0.012469,
     "end_time": "2025-04-02T11:41:43.202560",
     "exception": false,
     "start_time": "2025-04-02T11:41:43.190091",
     "status": "completed"
    },
    "tags": []
   },
   "source": [
    "To run this notebook, as well as the others in this course, you will need to make a copy, or fork, the notebook. Look for the `Copy and Edit` button in the top-right, and **click it** to make an editable, private copy of the notebook. It should look like this one:\n",
    "\n",
    "![Copy and Edit button](https://storage.googleapis.com/kaggle-media/Images/5gdai_sc_1.png)\n",
    "\n",
    "Your copy will now have a ▶️ **Run** button next to each code cell that you can press to execute that cell. These notebooks are expected to be run in order from top-to-bottom, but you are encouraged to add new cells, run your own code and explore. If you get stuck, you can try the `Factory reset` option in the `Run` menu, or head back to the original notebook and make a fresh copy.\n",
    "\n",
    "![Run cell button](https://storage.googleapis.com/kaggle-media/Images/5gdai_sc_2.png)\n",
    "\n",
    "### Problems?\n",
    "\n",
    "If you have any problems, head over to the [Kaggle Discord](https://discord.com/invite/kaggle), find the [`#5dgai-q-and-a` channel](https://discord.com/channels/1101210829807956100/1303438695143178251) and ask for help."
   ]
  },
  {
   "cell_type": "markdown",
   "id": "9e7b4b99",
   "metadata": {
    "id": "ExkOXcPxtTb5",
    "papermill": {
     "duration": 0.012515,
     "end_time": "2025-04-02T11:41:43.228282",
     "exception": false,
     "start_time": "2025-04-02T11:41:43.215767",
     "status": "completed"
    },
    "tags": []
   },
   "source": [
    "## Get started with the Gemini API\n",
    "\n",
    "All of the exercises in this notebook will use the [Gemini API](https://ai.google.dev/gemini-api/) by way of the [Python SDK](https://pypi.org/project/google-genai/). Each of these prompts can be accessed directly in [Google AI Studio](https://aistudio.google.com/) too, so if you would rather use a web interface and skip the code for this activity, look for the <img src=\"https://ai.google.dev/site-assets/images/marketing/home/icon-ais.png\" style=\"height: 24px\" height=24/> AI Studio link on each prompt."
   ]
  },
  {
   "cell_type": "markdown",
   "id": "3c22fcd0",
   "metadata": {
    "papermill": {
     "duration": 0.012467,
     "end_time": "2025-04-02T11:41:43.253632",
     "exception": false,
     "start_time": "2025-04-02T11:41:43.241165",
     "status": "completed"
    },
    "tags": []
   },
   "source": [
    "Next, you will need to add your API key to your Kaggle Notebook as a Kaggle User Secret.\n",
    "\n",
    "![](https://storage.googleapis.com/kaggle-media/Images/5dgai_1.png)\n",
    "![](https://storage.googleapis.com/kaggle-media/Images/5dgai_2.png)\n",
    "![](https://storage.googleapis.com/kaggle-media/Images/5dgai_3.png)\n",
    "![](https://storage.googleapis.com/kaggle-media/Images/5dgai_4.png)"
   ]
  },
  {
   "cell_type": "markdown",
   "id": "520fb32b",
   "metadata": {
    "id": "UAjUV3BsvFXQ",
    "papermill": {
     "duration": 0.012452,
     "end_time": "2025-04-02T11:41:43.278850",
     "exception": false,
     "start_time": "2025-04-02T11:41:43.266398",
     "status": "completed"
    },
    "tags": []
   },
   "source": [
    "### Install the SDK"
   ]
  },
  {
   "cell_type": "code",
   "execution_count": 2,
   "id": "3b98c1e8",
   "metadata": {
    "execution": {
     "iopub.execute_input": "2025-04-02T11:41:43.306558Z",
     "iopub.status.busy": "2025-04-02T11:41:43.306177Z",
     "iopub.status.idle": "2025-04-02T11:42:02.063505Z",
     "shell.execute_reply": "2025-04-02T11:42:02.062088Z"
    },
    "id": "NzwzJFU9LqkJ",
    "papermill": {
     "duration": 18.774278,
     "end_time": "2025-04-02T11:42:02.066112",
     "exception": false,
     "start_time": "2025-04-02T11:41:43.291834",
     "status": "completed"
    },
    "tags": []
   },
   "outputs": [],
   "source": [
    "!pip uninstall -qqy jupyterlab  # Remove unused packages from Kaggle's base image that conflict\n",
    "!pip install -U -q \"google-genai==1.7.0\""
   ]
  },
  {
   "cell_type": "markdown",
   "id": "a9665cce",
   "metadata": {
    "papermill": {
     "duration": 0.012536,
     "end_time": "2025-04-02T11:42:02.091497",
     "exception": false,
     "start_time": "2025-04-02T11:42:02.078961",
     "status": "completed"
    },
    "tags": []
   },
   "source": [
    "Import the SDK and some helpers for rendering the output."
   ]
  },
  {
   "cell_type": "code",
   "execution_count": 3,
   "id": "01515b96",
   "metadata": {
    "execution": {
     "iopub.execute_input": "2025-04-02T11:42:02.119744Z",
     "iopub.status.busy": "2025-04-02T11:42:02.119300Z",
     "iopub.status.idle": "2025-04-02T11:42:03.497141Z",
     "shell.execute_reply": "2025-04-02T11:42:03.495890Z"
    },
    "id": "5DwxYIRavMST",
    "papermill": {
     "duration": 1.395708,
     "end_time": "2025-04-02T11:42:03.500505",
     "exception": false,
     "start_time": "2025-04-02T11:42:02.104797",
     "status": "completed"
    },
    "tags": []
   },
   "outputs": [],
   "source": [
    "from google import genai\n",
    "from google.genai import types\n",
    "\n",
    "from IPython.display import HTML, Markdown, display"
   ]
  },
  {
   "cell_type": "markdown",
   "id": "aa077e7c",
   "metadata": {
    "papermill": {
     "duration": 0.012536,
     "end_time": "2025-04-02T11:42:03.533382",
     "exception": false,
     "start_time": "2025-04-02T11:42:03.520846",
     "status": "completed"
    },
    "tags": []
   },
   "source": [
    "Set up a retry helper. This allows you to \"Run all\" without worrying about per-minute quota."
   ]
  },
  {
   "cell_type": "code",
   "execution_count": 4,
   "id": "fae69e98",
   "metadata": {
    "execution": {
     "iopub.execute_input": "2025-04-02T11:42:03.561307Z",
     "iopub.status.busy": "2025-04-02T11:42:03.560559Z",
     "iopub.status.idle": "2025-04-02T11:42:03.741972Z",
     "shell.execute_reply": "2025-04-02T11:42:03.740909Z"
    },
    "papermill": {
     "duration": 0.198066,
     "end_time": "2025-04-02T11:42:03.744292",
     "exception": false,
     "start_time": "2025-04-02T11:42:03.546226",
     "status": "completed"
    },
    "tags": []
   },
   "outputs": [],
   "source": [
    "from google.api_core import retry\n",
    "\n",
    "\n",
    "is_retriable = lambda e: (isinstance(e, genai.errors.APIError) and e.code in {429, 503})\n",
    "\n",
    "genai.models.Models.generate_content = retry.Retry(\n",
    "    predicate=is_retriable)(genai.models.Models.generate_content)"
   ]
  },
  {
   "cell_type": "markdown",
   "id": "4ef36f0b",
   "metadata": {
    "id": "DNEt2BCOvOJ1",
    "papermill": {
     "duration": 0.01241,
     "end_time": "2025-04-02T11:42:03.769636",
     "exception": false,
     "start_time": "2025-04-02T11:42:03.757226",
     "status": "completed"
    },
    "tags": []
   },
   "source": [
    "### Set up your API key\n",
    "\n",
    "To run the following cell, your API key must be stored it in a [Kaggle secret](https://www.kaggle.com/discussions/product-feedback/114053) named `GOOGLE_API_KEY`.\n",
    "\n",
    "If you don't already have an API key, you can grab one from [AI Studio](https://aistudio.google.com/app/apikey). You can find [detailed instructions in the docs](https://ai.google.dev/gemini-api/docs/api-key).\n",
    "\n",
    "To make the key available through Kaggle secrets, choose `Secrets` from the `Add-ons` menu and follow the instructions to add your key or enable it for this notebook."
   ]
  },
  {
   "cell_type": "code",
   "execution_count": 5,
   "id": "5d0416d1",
   "metadata": {
    "execution": {
     "iopub.execute_input": "2025-04-02T11:42:03.797032Z",
     "iopub.status.busy": "2025-04-02T11:42:03.796483Z",
     "iopub.status.idle": "2025-04-02T11:42:03.983715Z",
     "shell.execute_reply": "2025-04-02T11:42:03.982745Z"
    },
    "id": "SHl0bkPCvayd",
    "papermill": {
     "duration": 0.203623,
     "end_time": "2025-04-02T11:42:03.986192",
     "exception": false,
     "start_time": "2025-04-02T11:42:03.782569",
     "status": "completed"
    },
    "tags": []
   },
   "outputs": [],
   "source": [
    "from kaggle_secrets import UserSecretsClient\n",
    "\n",
    "GOOGLE_API_KEY = UserSecretsClient().get_secret(\"GOOGLE_API_KEY\")"
   ]
  },
  {
   "attachments": {
    "d2be9aab-2527-48af-b6cf-1f06cdd7c3a7.png": {
     "image/png": "[encoded data removed]"
    }
   },
   "cell_type": "markdown",
   "id": "66d23fa1",
   "metadata": {
    "id": "4e720472fd86",
    "papermill": {
     "duration": 0.01245,
     "end_time": "2025-04-02T11:42:04.011612",
     "exception": false,
     "start_time": "2025-04-02T11:42:03.999162",
     "status": "completed"
    },
    "tags": []
   },
   "source": [
    "If you received an error response along the lines of `No user secrets exist for kernel id ...`, then you need to add your API key via `Add-ons`, `Secrets` **and** enable it.\n",
    "\n",
    "![Screenshot of the checkbox to enable GOOGLE_API_KEY secret](https://storage.googleapis.com/kaggle-media/Images/5gdai_sc_3.png)"
   ]
  },
  {
   "cell_type": "markdown",
   "id": "55e09546",
   "metadata": {
    "id": "H_YXCYIKvyZJ",
    "papermill": {
     "duration": 0.013323,
     "end_time": "2025-04-02T11:42:04.037984",
     "exception": false,
     "start_time": "2025-04-02T11:42:04.024661",
     "status": "completed"
    },
    "tags": []
   },
   "source": [
    "### Run your first prompt\n",
    "\n",
    "In this step, you will test that your API key is set up correctly by making a request.\n",
    "\n",
    "The Python SDK uses a [`Client` object](https://googleapis.github.io/python-genai/genai.html#genai.client.Client) to make requests to the API. The client lets you control which back-end to use (between the Gemini API and Vertex AI) and handles authentication (the API key).\n",
    "\n",
    "The `gemini-2.0-flash` model has been selected here.\n",
    "\n",
    "**Note**: If you see a `TransportError` on this step, you may need to **🔁 Factory reset** the notebook one time."
   ]
  },
  {
   "cell_type": "code",
   "execution_count": 6,
   "id": "1569548f",
   "metadata": {
    "execution": {
     "iopub.execute_input": "2025-04-02T11:42:04.065866Z",
     "iopub.status.busy": "2025-04-02T11:42:04.065480Z",
     "iopub.status.idle": "2025-04-02T11:42:06.065552Z",
     "shell.execute_reply": "2025-04-02T11:42:06.064381Z"
    },
    "id": "BV1o0PmcvyJF",
    "papermill": {
     "duration": 2.017088,
     "end_time": "2025-04-02T11:42:06.068066",
     "exception": false,
     "start_time": "2025-04-02T11:42:04.050978",
     "status": "completed"
    },
    "tags": []
   },
   "outputs": [
    {
     "name": "stdout",
     "output_type": "stream",
     "text": [
      "Imagine you have a really smart toy that can learn. That's kind of like AI!\n",
      "\n",
      "AI stands for **Artificial Intelligence**, which just means \"pretend smarts\" made by people.\n",
      "\n",
      "Think about it this way:\n",
      "\n",
      "*   **Normal toys** only do what you tell them. Like a car that only goes forward when you push it.\n",
      "*   **AI toys** can learn from what you do. If you always push the car on the smooth floor, it might learn to go faster there.\n",
      "\n",
      "How do they learn? We teach them! We show them lots and lots of examples.\n",
      "\n",
      "*   Like teaching a computer to recognize a cat. We show it thousands of pictures of cats, and tell it \"This is a cat!\" After a while, it learns what a cat looks like, even if it's a cat it's never seen before!\n",
      "\n",
      "AI can do lots of things:\n",
      "\n",
      "*   Help you find videos on the internet (like a super good helper!)\n",
      "*   Play games with you (and sometimes even beat you!)\n",
      "*   Talk to you like a friend (but remember, it's not really a friend, it's a program!)\n",
      "\n",
      "So, AI is like a super-smart, learning machine that can help us with all sorts of things! It's still pretty new, and it's getting smarter every day!\n",
      "\n"
     ]
    }
   ],
   "source": [
    "client = genai.Client(api_key=GOOGLE_API_KEY)\n",
    "\n",
    "response = client.models.generate_content(\n",
    "    model=\"gemini-2.0-flash\",\n",
    "    contents=\"Explain AI to me like I'm a kid.\")\n",
    "\n",
    "print(response.text)"
   ]
  },
  {
   "cell_type": "markdown",
   "id": "0da3a5d0",
   "metadata": {
    "id": "f60ed9d8ae41",
    "papermill": {
     "duration": 0.012686,
     "end_time": "2025-04-02T11:42:06.094075",
     "exception": false,
     "start_time": "2025-04-02T11:42:06.081389",
     "status": "completed"
    },
    "tags": []
   },
   "source": [
    "The response often comes back in markdown format, which you can render directly in this notebook."
   ]
  },
  {
   "cell_type": "code",
   "execution_count": 7,
   "id": "1eff9f21",
   "metadata": {
    "execution": {
     "iopub.execute_input": "2025-04-02T11:42:06.122309Z",
     "iopub.status.busy": "2025-04-02T11:42:06.121222Z",
     "iopub.status.idle": "2025-04-02T11:42:06.129414Z",
     "shell.execute_reply": "2025-04-02T11:42:06.128318Z"
    },
    "id": "c933e5e460a5",
    "papermill": {
     "duration": 0.024463,
     "end_time": "2025-04-02T11:42:06.131427",
     "exception": false,
     "start_time": "2025-04-02T11:42:06.106964",
     "status": "completed"
    },
    "tags": []
   },
   "outputs": [
    {
     "data": {
      "text/markdown": [
       "Imagine you have a really smart toy that can learn. That's kind of like AI!\n",
       "\n",
       "AI stands for **Artificial Intelligence**, which just means \"pretend smarts\" made by people.\n",
       "\n",
       "Think about it this way:\n",
       "\n",
       "*   **Normal toys** only do what you tell them. Like a car that only goes forward when you push it.\n",
       "*   **AI toys** can learn from what you do. If you always push the car on the smooth floor, it might learn to go faster there.\n",
       "\n",
       "How do they learn? We teach them! We show them lots and lots of examples.\n",
       "\n",
       "*   Like teaching a computer to recognize a cat. We show it thousands of pictures of cats, and tell it \"This is a cat!\" After a while, it learns what a cat looks like, even if it's a cat it's never seen before!\n",
       "\n",
       "AI can do lots of things:\n",
       "\n",
       "*   Help you find videos on the internet (like a super good helper!)\n",
       "*   Play games with you (and sometimes even beat you!)\n",
       "*   Talk to you like a friend (but remember, it's not really a friend, it's a program!)\n",
       "\n",
       "So, AI is like a super-smart, learning machine that can help us with all sorts of things! It's still pretty new, and it's getting smarter every day!\n"
      ],
      "text/plain": [
       "<IPython.core.display.Markdown object>"
      ]
     },
     "execution_count": 7,
     "metadata": {},
     "output_type": "execute_result"
    }
   ],
   "source": [
    "Markdown(response.text)"
   ]
  },
  {
   "cell_type": "markdown",
   "id": "6a372633",
   "metadata": {
    "id": "byx0pT9ZMW2Q",
    "papermill": {
     "duration": 0.012819,
     "end_time": "2025-04-02T11:42:06.158035",
     "exception": false,
     "start_time": "2025-04-02T11:42:06.145216",
     "status": "completed"
    },
    "tags": []
   },
   "source": [
    "### Start a chat\n",
    "\n",
    "The previous example uses a single-turn, text-in/text-out structure, but you can also set up a multi-turn chat structure too."
   ]
  },
  {
   "cell_type": "code",
   "execution_count": 8,
   "id": "0f3e0587",
   "metadata": {
    "execution": {
     "iopub.execute_input": "2025-04-02T11:42:06.185416Z",
     "iopub.status.busy": "2025-04-02T11:42:06.185041Z",
     "iopub.status.idle": "2025-04-02T11:42:06.640515Z",
     "shell.execute_reply": "2025-04-02T11:42:06.639378Z"
    },
    "id": "lV_S5ZL5MidD",
    "papermill": {
     "duration": 0.472428,
     "end_time": "2025-04-02T11:42:06.643295",
     "exception": false,
     "start_time": "2025-04-02T11:42:06.170867",
     "status": "completed"
    },
    "tags": []
   },
   "outputs": [
    {
     "name": "stdout",
     "output_type": "stream",
     "text": [
      "Greetings, Zlork! It's nice to meet you. How can I help you today?\n",
      "\n"
     ]
    }
   ],
   "source": [
    "chat = client.chats.create(model='gemini-2.0-flash', history=[])\n",
    "response = chat.send_message('Hello! My name is Zlork.')\n",
    "print(response.text)"
   ]
  },
  {
   "cell_type": "code",
   "execution_count": 9,
   "id": "2423aa71",
   "metadata": {
    "execution": {
     "iopub.execute_input": "2025-04-02T11:42:06.671661Z",
     "iopub.status.busy": "2025-04-02T11:42:06.671298Z",
     "iopub.status.idle": "2025-04-02T11:42:07.947533Z",
     "shell.execute_reply": "2025-04-02T11:42:07.946231Z"
    },
    "id": "7b0372c3c64a",
    "papermill": {
     "duration": 1.293295,
     "end_time": "2025-04-02T11:42:07.950340",
     "exception": false,
     "start_time": "2025-04-02T11:42:06.657045",
     "status": "completed"
    },
    "tags": []
   },
   "outputs": [
    {
     "name": "stdout",
     "output_type": "stream",
     "text": [
      "Okay, here's a fascinating fact about dinosaurs that might surprise you:\n",
      "\n",
      "**Some dinosaurs were fluffy!**\n",
      "\n",
      "While we often picture dinosaurs with scaly skin, evidence suggests that many species, especially theropods (the group that includes Tyrannosaurus Rex), had feathers or downy fuzz covering at least part of their bodies. These feathers weren't necessarily for flight; they were likely used for insulation, display, or even brooding their young. In fact, some dinosaurs may have looked more like giant, brightly colored chickens than the scaly monsters we often imagine.\n",
      "\n",
      "Is there anything else you'd like to know about dinosaurs? I'm full of interesting facts!\n",
      "\n"
     ]
    }
   ],
   "source": [
    "response = chat.send_message('Can you tell me something interesting about dinosaurs?')\n",
    "print(response.text)"
   ]
  },
  {
   "cell_type": "markdown",
   "id": "f1e1e478",
   "metadata": {
    "papermill": {
     "duration": 0.012846,
     "end_time": "2025-04-02T11:42:07.977084",
     "exception": false,
     "start_time": "2025-04-02T11:42:07.964238",
     "status": "completed"
    },
    "tags": []
   },
   "source": [
    "While you have the `chat` object alive, the conversation state\n",
    "persists. Confirm that by asking if it knows the user's name."
   ]
  },
  {
   "cell_type": "code",
   "execution_count": 10,
   "id": "51c60fcc",
   "metadata": {
    "execution": {
     "iopub.execute_input": "2025-04-02T11:42:08.007027Z",
     "iopub.status.busy": "2025-04-02T11:42:08.006632Z",
     "iopub.status.idle": "2025-04-02T11:42:08.315539Z",
     "shell.execute_reply": "2025-04-02T11:42:08.314414Z"
    },
    "id": "d3f9591392a7",
    "papermill": {
     "duration": 0.326676,
     "end_time": "2025-04-02T11:42:08.317892",
     "exception": false,
     "start_time": "2025-04-02T11:42:07.991216",
     "status": "completed"
    },
    "tags": []
   },
   "outputs": [
    {
     "name": "stdout",
     "output_type": "stream",
     "text": [
      "Yes, Zlork! I remember your name is Zlork.\n",
      "\n"
     ]
    }
   ],
   "source": [
    "response = chat.send_message('Do you remember what my name is?')\n",
    "print(response.text)"
   ]
  },
  {
   "cell_type": "markdown",
   "id": "3ced9b4d",
   "metadata": {
    "id": "2KAjpr1200sW",
    "papermill": {
     "duration": 0.013076,
     "end_time": "2025-04-02T11:42:08.344299",
     "exception": false,
     "start_time": "2025-04-02T11:42:08.331223",
     "status": "completed"
    },
    "tags": []
   },
   "source": [
    "### Choose a model\n",
    "\n",
    "The Gemini API provides access to a number of models from the Gemini model family. Read about the available models and their capabilities on the [model overview page](https://ai.google.dev/gemini-api/docs/models/gemini).\n",
    "\n",
    "In this step you'll use the API to list all of the available models."
   ]
  },
  {
   "cell_type": "code",
   "execution_count": 11,
   "id": "b7875f1f",
   "metadata": {
    "execution": {
     "iopub.execute_input": "2025-04-02T11:42:08.372721Z",
     "iopub.status.busy": "2025-04-02T11:42:08.372327Z",
     "iopub.status.idle": "2025-04-02T11:42:08.401787Z",
     "shell.execute_reply": "2025-04-02T11:42:08.400354Z"
    },
    "id": "uUUZa2uq2jDm",
    "papermill": {
     "duration": 0.046671,
     "end_time": "2025-04-02T11:42:08.404314",
     "exception": false,
     "start_time": "2025-04-02T11:42:08.357643",
     "status": "completed"
    },
    "tags": []
   },
   "outputs": [
    {
     "name": "stdout",
     "output_type": "stream",
     "text": [
      "models/chat-bison-001\n",
      "models/text-bison-001\n",
      "models/embedding-gecko-001\n",
      "models/gemini-1.0-pro-vision-latest\n",
      "models/gemini-pro-vision\n",
      "models/gemini-1.5-pro-latest\n",
      "models/gemini-1.5-pro-001\n",
      "models/gemini-1.5-pro-002\n",
      "models/gemini-1.5-pro\n",
      "models/gemini-1.5-flash-latest\n",
      "models/gemini-1.5-flash-001\n",
      "models/gemini-1.5-flash-001-tuning\n",
      "models/gemini-1.5-flash\n",
      "models/gemini-1.5-flash-002\n",
      "models/gemini-1.5-flash-8b\n",
      "models/gemini-1.5-flash-8b-001\n",
      "models/gemini-1.5-flash-8b-latest\n",
      "models/gemini-1.5-flash-8b-exp-0827\n",
      "models/gemini-1.5-flash-8b-exp-0924\n",
      "models/gemini-2.5-pro-exp-03-25\n",
      "models/gemini-2.0-flash-exp\n",
      "models/gemini-2.0-flash\n",
      "models/gemini-2.0-flash-001\n",
      "models/gemini-2.0-flash-exp-image-generation\n",
      "models/gemini-2.0-flash-lite-001\n",
      "models/gemini-2.0-flash-lite\n",
      "models/gemini-2.0-flash-lite-preview-02-05\n",
      "models/gemini-2.0-flash-lite-preview\n",
      "models/gemini-2.0-pro-exp\n",
      "models/gemini-2.0-pro-exp-02-05\n",
      "models/gemini-exp-1206\n",
      "models/gemini-2.0-flash-thinking-exp-01-21\n",
      "models/gemini-2.0-flash-thinking-exp\n",
      "models/gemini-2.0-flash-thinking-exp-1219\n",
      "models/learnlm-1.5-pro-experimental\n",
      "models/gemma-3-4b-it\n",
      "models/gemma-3-12b-it\n",
      "models/gemma-3-27b-it\n",
      "models/embedding-001\n",
      "models/text-embedding-004\n",
      "models/gemini-embedding-exp-03-07\n",
      "models/gemini-embedding-exp\n",
      "models/aqa\n",
      "models/imagen-3.0-generate-002\n"
     ]
    }
   ],
   "source": [
    "for model in client.models.list():\n",
    "  print(model.name)"
   ]
  },
  {
   "cell_type": "markdown",
   "id": "817cfdf7",
   "metadata": {
    "id": "rN49kSI54R1v",
    "papermill": {
     "duration": 0.013656,
     "end_time": "2025-04-02T11:42:08.431531",
     "exception": false,
     "start_time": "2025-04-02T11:42:08.417875",
     "status": "completed"
    },
    "tags": []
   },
   "source": [
    "The [`models.list`](https://ai.google.dev/api/models#method:-models.list) response also returns additional information about the model's capabilities, like the token limits and supported parameters."
   ]
  },
  {
   "cell_type": "code",
   "execution_count": 12,
   "id": "456491a5",
   "metadata": {
    "execution": {
     "iopub.execute_input": "2025-04-02T11:42:08.460386Z",
     "iopub.status.busy": "2025-04-02T11:42:08.460023Z",
     "iopub.status.idle": "2025-04-02T11:42:08.488435Z",
     "shell.execute_reply": "2025-04-02T11:42:08.487242Z"
    },
    "id": "k7JJ1K6j4Rl8",
    "papermill": {
     "duration": 0.04548,
     "end_time": "2025-04-02T11:42:08.490777",
     "exception": false,
     "start_time": "2025-04-02T11:42:08.445297",
     "status": "completed"
    },
    "tags": []
   },
   "outputs": [
    {
     "name": "stdout",
     "output_type": "stream",
     "text": [
      "{'description': 'Gemini 2.0 Flash',\n",
      " 'display_name': 'Gemini 2.0 Flash',\n",
      " 'input_token_limit': 1048576,\n",
      " 'name': 'models/gemini-2.0-flash',\n",
      " 'output_token_limit': 8192,\n",
      " 'supported_actions': ['generateContent', 'countTokens'],\n",
      " 'tuned_model_info': {},\n",
      " 'version': '2.0'}\n"
     ]
    }
   ],
   "source": [
    "from pprint import pprint\n",
    "\n",
    "for model in client.models.list():\n",
    "  if model.name == 'models/gemini-2.0-flash':\n",
    "    pprint(model.to_json_dict())\n",
    "    break"
   ]
  },
  {
   "cell_type": "markdown",
   "id": "d405c5c4",
   "metadata": {
    "id": "5rU_UBlZdooM",
    "papermill": {
     "duration": 0.0134,
     "end_time": "2025-04-02T11:42:08.518911",
     "exception": false,
     "start_time": "2025-04-02T11:42:08.505511",
     "status": "completed"
    },
    "tags": []
   },
   "source": [
    "## Explore generation parameters\n",
    "\n"
   ]
  },
  {
   "cell_type": "markdown",
   "id": "cfb6e9a4",
   "metadata": {
    "id": "G7NfEizeipbW",
    "papermill": {
     "duration": 0.013149,
     "end_time": "2025-04-02T11:42:08.545673",
     "exception": false,
     "start_time": "2025-04-02T11:42:08.532524",
     "status": "completed"
    },
    "tags": []
   },
   "source": [
    "### Output length\n",
    "\n",
    "When generating text with an LLM, the output length affects cost and performance. Generating more tokens increases computation, leading to higher energy consumption, latency, and cost.\n",
    "\n",
    "To stop the model from generating tokens past a limit, you can specify the `max_output_tokens` parameter when using the Gemini API. Specifying this parameter does not influence the generation of the output tokens, so the output will not become more stylistically or textually succinct, but it will stop generating tokens once the specified length is reached. Prompt engineering may be required to generate a more complete output for your given limit."
   ]
  },
  {
   "cell_type": "code",
   "execution_count": 13,
   "id": "dd48bad5",
   "metadata": {
    "execution": {
     "iopub.execute_input": "2025-04-02T11:42:08.574137Z",
     "iopub.status.busy": "2025-04-02T11:42:08.573747Z",
     "iopub.status.idle": "2025-04-02T11:42:09.959387Z",
     "shell.execute_reply": "2025-04-02T11:42:09.958065Z"
    },
    "id": "qVf23JsIi9ma",
    "papermill": {
     "duration": 1.402747,
     "end_time": "2025-04-02T11:42:09.961885",
     "exception": false,
     "start_time": "2025-04-02T11:42:08.559138",
     "status": "completed"
    },
    "tags": []
   },
   "outputs": [
    {
     "name": "stdout",
     "output_type": "stream",
     "text": [
      "## The Humble Olive: A Cornerstone of Modern Society\n",
      "\n",
      "The olive, a small drupe plucked from the *Olea europaea* tree, may seem a simple fruit. Yet, it possesses a profound and multifaceted importance in modern society, far exceeding its humble appearance. From its rich culinary contributions and crucial role in sustainable agriculture to its health-promoting properties and cultural significance, the olive’s influence permeates various aspects of our lives, shaping our economies, diets, and traditions in significant ways.\n",
      "\n",
      "One of the most palpable impacts of the olive lies within the culinary world. Olive oil, extracted from the fruit, is a cornerstone of Mediterranean cuisine, lauded for its flavor, versatility, and health benefits. It serves as a primary cooking medium, a salad dressing, a condiment, and a finishing touch, elevating countless dishes with its distinctive aroma and taste. Its unique flavor profiles, ranging from delicate and fruity to robust and peppery, depend on the variety of olive, the soil conditions, and the\n"
     ]
    }
   ],
   "source": [
    "from google.genai import types\n",
    "\n",
    "short_config = types.GenerateContentConfig(max_output_tokens=200)\n",
    "\n",
    "response = client.models.generate_content(\n",
    "    model='gemini-2.0-flash',\n",
    "    config=short_config,\n",
    "    contents='Write a 1000 word essay on the importance of olives in modern society.')\n",
    "\n",
    "print(response.text)"
   ]
  },
  {
   "cell_type": "code",
   "execution_count": 14,
   "id": "4a154f08",
   "metadata": {
    "execution": {
     "iopub.execute_input": "2025-04-02T11:42:09.991752Z",
     "iopub.status.busy": "2025-04-02T11:42:09.991366Z",
     "iopub.status.idle": "2025-04-02T11:42:10.832873Z",
     "shell.execute_reply": "2025-04-02T11:42:10.831659Z"
    },
    "id": "W-3kR2F5kdMR",
    "papermill": {
     "duration": 0.858967,
     "end_time": "2025-04-02T11:42:10.835219",
     "exception": false,
     "start_time": "2025-04-02T11:42:09.976252",
     "status": "completed"
    },
    "tags": []
   },
   "outputs": [
    {
     "name": "stdout",
     "output_type": "stream",
     "text": [
      "From ancient groves to modern fare,\n",
      "The olive shines, a global prayer.\n",
      "In oil it flows, a healthy grace,\n",
      "On pizza crowns, a savory space.\n",
      "\n",
      "A tapenade, a briny bite,\n",
      "A Mediterranean, sun-drenched light.\n",
      "A simple fruit, yet richly blessed,\n",
      "The olive's reign, put to the test,\n",
      "Still endures, a welcome guest.\n",
      "\n"
     ]
    }
   ],
   "source": [
    "response = client.models.generate_content(\n",
    "    model='gemini-2.0-flash',\n",
    "    config=short_config,\n",
    "    contents='Write a short poem on the importance of olives in modern society.')\n",
    "\n",
    "print(response.text)"
   ]
  },
  {
   "cell_type": "code",
   "execution_count": 15,
   "id": "86c74588",
   "metadata": {
    "execution": {
     "iopub.execute_input": "2025-04-02T11:42:10.864075Z",
     "iopub.status.busy": "2025-04-02T11:42:10.863676Z",
     "iopub.status.idle": "2025-04-02T11:42:11.521463Z",
     "shell.execute_reply": "2025-04-02T11:42:11.520234Z"
    },
    "id": "W-3kR2F5kdMR",
    "papermill": {
     "duration": 0.675348,
     "end_time": "2025-04-02T11:42:11.524138",
     "exception": false,
     "start_time": "2025-04-02T11:42:10.848790",
     "status": "completed"
    },
    "tags": []
   },
   "outputs": [
    {
     "name": "stdout",
     "output_type": "stream",
     "text": [
      "Bees are vital for agriculture. As pollinators, they transfer pollen between plants, enabling the production of fruits, vegetables, and seeds for about one-third of our food supply. Without bees, crop yields would drastically decrease, leading to food shortages and economic instability. Their role is crucial for maintaining biodiversity and ensuring food security. Protecting bee populations is essential for sustainable agriculture and a healthy planet.\n",
      "\n"
     ]
    }
   ],
   "source": [
    "short_config = types.GenerateContentConfig(max_output_tokens=100)\n",
    "\n",
    "response = client.models.generate_content(\n",
    "    model='gemini-2.0-flash',\n",
    "    config=short_config,\n",
    "    contents='Tell me within 100 words how important are bees for our agriculture')\n",
    "\n",
    "print(response.text)"
   ]
  },
  {
   "cell_type": "markdown",
   "id": "065bf131",
   "metadata": {
    "id": "3ZhDSLB6lqqB",
    "papermill": {
     "duration": 0.013337,
     "end_time": "2025-04-02T11:42:11.551567",
     "exception": false,
     "start_time": "2025-04-02T11:42:11.538230",
     "status": "completed"
    },
    "tags": []
   },
   "source": [
    "Explore with your own prompts. Try a prompt with a restrictive output limit and then adjust the prompt to work within that limit."
   ]
  },
  {
   "cell_type": "markdown",
   "id": "bae599a5",
   "metadata": {
    "id": "alx-WaAvir_9",
    "papermill": {
     "duration": 0.013444,
     "end_time": "2025-04-02T11:42:11.578792",
     "exception": false,
     "start_time": "2025-04-02T11:42:11.565348",
     "status": "completed"
    },
    "tags": []
   },
   "source": [
    "### Temperature\n",
    "\n",
    "Temperature controls the degree of randomness in token selection. Higher temperatures result in a higher number of candidate tokens from which the next output token is selected, and can produce more diverse results, while lower temperatures have the opposite effect, such that a temperature of 0 results in greedy decoding, selecting the most probable token at each step.\n",
    "\n",
    "Temperature doesn't provide any guarantees of randomness, but it can be used to \"nudge\" the output somewhat."
   ]
  },
  {
   "cell_type": "code",
   "execution_count": 16,
   "id": "6d47caba",
   "metadata": {
    "execution": {
     "iopub.execute_input": "2025-04-02T11:42:11.607703Z",
     "iopub.status.busy": "2025-04-02T11:42:11.607311Z",
     "iopub.status.idle": "2025-04-02T11:42:12.899793Z",
     "shell.execute_reply": "2025-04-02T11:42:12.898526Z"
    },
    "id": "SHraGMzqnZqt",
    "papermill": {
     "duration": 1.310021,
     "end_time": "2025-04-02T11:42:12.902506",
     "exception": false,
     "start_time": "2025-04-02T11:42:11.592485",
     "status": "completed"
    },
    "tags": []
   },
   "outputs": [
    {
     "name": "stdout",
     "output_type": "stream",
     "text": [
      "Magenta\n",
      " -------------------------\n",
      "Turquoise\n",
      " -------------------------\n",
      "Azure\n",
      " -------------------------\n",
      "Orange\n",
      " -------------------------\n",
      "Mauve\n",
      " -------------------------\n"
     ]
    }
   ],
   "source": [
    "high_temp_config = types.GenerateContentConfig(temperature=2.0)\n",
    "\n",
    "\n",
    "for _ in range(5):\n",
    "  response = client.models.generate_content(\n",
    "      model='gemini-2.0-flash',\n",
    "      config=high_temp_config,\n",
    "      contents='Pick a random colour... (respond in a single word)')\n",
    "\n",
    "  if response.text:\n",
    "    print(response.text, '-' * 25)"
   ]
  },
  {
   "cell_type": "code",
   "execution_count": 17,
   "id": "68fb8746",
   "metadata": {
    "execution": {
     "iopub.execute_input": "2025-04-02T11:42:12.935726Z",
     "iopub.status.busy": "2025-04-02T11:42:12.934726Z",
     "iopub.status.idle": "2025-04-02T11:43:15.399674Z",
     "shell.execute_reply": "2025-04-02T11:43:15.398569Z"
    },
    "id": "SHraGMzqnZqt",
    "papermill": {
     "duration": 62.497895,
     "end_time": "2025-04-02T11:43:15.415447",
     "exception": false,
     "start_time": "2025-04-02T11:42:12.917552",
     "status": "completed"
    },
    "tags": []
   },
   "outputs": [
    {
     "name": "stdout",
     "output_type": "stream",
     "text": [
      "Azure\n",
      " -------------------------\n",
      "Azure\n",
      " -------------------------\n",
      "Azure\n",
      " -------------------------\n",
      "Azure\n",
      " -------------------------\n",
      "Azure\n",
      " -------------------------\n"
     ]
    }
   ],
   "source": [
    "high_temp_config = types.GenerateContentConfig(temperature=0.2)\n",
    "\n",
    "\n",
    "for _ in range(5):\n",
    "  response = client.models.generate_content(\n",
    "      model='gemini-2.0-flash',\n",
    "      config=high_temp_config,\n",
    "      contents='Pick a random colour... (respond in a single word)')\n",
    "\n",
    "  if response.text:\n",
    "    print(response.text, '-' * 25)"
   ]
  },
  {
   "cell_type": "markdown",
   "id": "039c20c0",
   "metadata": {
    "id": "z3J4pCTuof7e",
    "papermill": {
     "duration": 0.014134,
     "end_time": "2025-04-02T11:43:15.444268",
     "exception": false,
     "start_time": "2025-04-02T11:43:15.430134",
     "status": "completed"
    },
    "tags": []
   },
   "source": [
    "Now try the same prompt with temperature set to zero. Note that the output is not completely deterministic, as other parameters affect token selection, but the results will tend to be more stable."
   ]
  },
  {
   "cell_type": "code",
   "execution_count": 18,
   "id": "97915085",
   "metadata": {
    "execution": {
     "iopub.execute_input": "2025-04-02T11:43:15.474198Z",
     "iopub.status.busy": "2025-04-02T11:43:15.473772Z",
     "iopub.status.idle": "2025-04-02T11:43:16.819593Z",
     "shell.execute_reply": "2025-04-02T11:43:16.818529Z"
    },
    "id": "clymkWv-PfUZ",
    "papermill": {
     "duration": 1.363672,
     "end_time": "2025-04-02T11:43:16.822043",
     "exception": false,
     "start_time": "2025-04-02T11:43:15.458371",
     "status": "completed"
    },
    "tags": []
   },
   "outputs": [
    {
     "name": "stdout",
     "output_type": "stream",
     "text": [
      "Azure\n",
      " -------------------------\n",
      "Azure\n",
      " -------------------------\n",
      "Azure\n",
      " -------------------------\n",
      "Azure\n",
      " -------------------------\n",
      "Azure\n",
      " -------------------------\n"
     ]
    }
   ],
   "source": [
    "low_temp_config = types.GenerateContentConfig(temperature=0.0)\n",
    "\n",
    "for _ in range(5):\n",
    "  response = client.models.generate_content(\n",
    "      model='gemini-2.0-flash',\n",
    "      config=low_temp_config,\n",
    "      contents='Pick a random colour... (respond in a single word)')\n",
    "\n",
    "  if response.text:\n",
    "    print(response.text, '-' * 25)"
   ]
  },
  {
   "cell_type": "markdown",
   "id": "c2537d13",
   "metadata": {
    "id": "St5nt3vzitsZ",
    "papermill": {
     "duration": 0.014258,
     "end_time": "2025-04-02T11:43:16.851136",
     "exception": false,
     "start_time": "2025-04-02T11:43:16.836878",
     "status": "completed"
    },
    "tags": []
   },
   "source": [
    "### Top-P\n",
    "\n",
    "Like temperature, the top-P parameter is also used to control the diversity of the model's output.\n",
    "\n",
    "Top-P defines the probability threshold that, once cumulatively exceeded, tokens stop being selected as candidates. A top-P of 0 is typically equivalent to greedy decoding, and a top-P of 1 typically selects every token in the model's vocabulary.\n",
    "\n",
    "You may also see top-K referenced in LLM literature. Top-K is not configurable in the Gemini 2.0 series of models, but can be changed in older models. Top-K is a positive integer that defines the number of most probable tokens from which to select the output token. A top-K of 1 selects a single token, performing greedy decoding.\n",
    "\n",
    "\n",
    "Run this example a number of times, change the settings and observe the change in output."
   ]
  },
  {
   "cell_type": "code",
   "execution_count": 19,
   "id": "9fe78b00",
   "metadata": {
    "execution": {
     "iopub.execute_input": "2025-04-02T11:43:16.881464Z",
     "iopub.status.busy": "2025-04-02T11:43:16.881058Z",
     "iopub.status.idle": "2025-04-02T11:43:22.441166Z",
     "shell.execute_reply": "2025-04-02T11:43:22.440010Z"
    },
    "id": "lPlzpEavUV8F",
    "papermill": {
     "duration": 5.57821,
     "end_time": "2025-04-02T11:43:22.443602",
     "exception": false,
     "start_time": "2025-04-02T11:43:16.865392",
     "status": "completed"
    },
    "tags": []
   },
   "outputs": [
    {
     "name": "stdout",
     "output_type": "stream",
     "text": [
      "Clementine, a marmalade cat with a perpetually surprised expression, lived a life of luxurious boredom. Her days consisted of sunbathing in dust motes, batting at errant spiderwebs, and demanding tuna from her human, Eleanor, with imperious meows. Clementine knew the world only within the confines of Eleanor's cozy cottage, a world of plush carpets and ticking clocks.\n",
      "\n",
      "Then, one blustery autumn afternoon, the wind howled, and Eleanor, rushing to close the window, accidentally left the back door ajar. Opportunity, scented with fallen leaves and damp earth, beckoned. Clementine, never one to ignore an invitation, slipped through the crack and into the unknown.\n",
      "\n",
      "The world exploded with sensory overload. The wind whipped through her fur, carrying the scent of woodsmoke and decaying pumpkins. Crunchy leaves danced under her paws. Birds, fat and flustered, scolded her from bare branches. Clementine, normally a creature of comfort, felt a thrill course through her. This was *adventure*.\n",
      "\n",
      "Her first encounter was with a squirrel, a jittery creature with a walnut clutched in its paws. It chattered insults at her, puffing its tail indignantly. Clementine, accustomed to Eleanor's adoration, found herself strangely intimidated. She hissed half-heartedly and continued her journey, feeling a little less brave.\n",
      "\n",
      "Further on, she stumbled upon a pond, its surface reflecting the grey sky like a broken mirror. A family of ducks, paddling serenely, ignored her completely. Clementine, intrigued by the shimmering water, edged closer. A rogue leaf, loosened by the wind, landed on the surface. She batted at it, sending ripples across the pond and earning a surprised quack from one of the ducks.\n",
      "\n",
      "As dusk deepened, Clementine found herself lost in a small wood. The trees loomed, their branches like skeletal fingers against the fading light. Fear, a cold and unfamiliar feeling, crept into her heart. She missed the warmth of the cottage, the smell of Eleanor’s lavender potpourri.\n",
      "\n",
      "Suddenly, a pair of glowing eyes pierced the gloom. Clementine froze, her fur bristling. A large, black cat emerged from the shadows, its eyes narrowed in assessment. This was no pampered pet; this was a creature of the wild.\n",
      "\n",
      "The black cat, whose name, Clementine later learned, was Shadow, circled her cautiously. He sized her up, seeing the softness in her fur, the hesitation in her stance. He could smell the tuna on her breath.\n",
      "\n",
      "\"Lost, little one?\" he rasped, his voice like the rustling of dry leaves.\n",
      "\n",
      "Clementine, emboldened by Shadow's acknowledgement, admitted, \"Yes. I… I went on an adventure.\"\n",
      "\n",
      "Shadow chuckled, a low, rumbling sound. \"Adventure? This is just a Tuesday for me.\"\n",
      "\n",
      "He led Clementine through the darkening woods, sharing stories of his life scavenging for scraps, battling alley cats, and dodging the grumpy old dog from down the street. He taught her how to sniff out hidden mice, how to stalk birds silently, and how to find shelter under fallen logs.\n",
      "\n",
      "As they reached the edge of the wood, Clementine saw the familiar glow of Eleanor's cottage. Relief washed over her, mixed with a strange pang of sadness.\n",
      "\n",
      "Shadow stopped. \"Go home, little one. Adventure is waiting for you, but sometimes home is the best adventure of all.\"\n",
      "\n",
      "Clementine rubbed against his leg, a gesture of gratitude. \"Thank you,\" she purred, then darted towards the cottage.\n",
      "\n",
      "Eleanor, frantic with worry, was searching the garden, calling Clementine's name. When she saw her marmalade cat emerge from the shadows, she scooped her up in a hug, showering her with kisses.\n",
      "\n",
      "Clementine purred loudly, nestling in Eleanor’s arms. The cottage was warm, the tuna was plentiful, and the adventure was over. But as she drifted off to sleep, Clementine dreamt of rustling leaves, glowing eyes, and a life beyond the confines of her comfortable world. The adventure, she knew, had just begun.\n",
      "\n"
     ]
    }
   ],
   "source": [
    "model_config = types.GenerateContentConfig(\n",
    "    # These are the default values for gemini-2.0-flash.\n",
    "    temperature=1.0,\n",
    "    top_p=0.95,\n",
    ")\n",
    "\n",
    "story_prompt = \"You are a creative writer. Write a short story about a cat who goes on an adventure.\"\n",
    "response = client.models.generate_content(\n",
    "    model='gemini-2.0-flash',\n",
    "    config=model_config,\n",
    "    contents=story_prompt)\n",
    "\n",
    "print(response.text)"
   ]
  },
  {
   "cell_type": "code",
   "execution_count": 20,
   "id": "abba8aa7",
   "metadata": {
    "execution": {
     "iopub.execute_input": "2025-04-02T11:43:22.474591Z",
     "iopub.status.busy": "2025-04-02T11:43:22.474226Z",
     "iopub.status.idle": "2025-04-02T11:43:27.517485Z",
     "shell.execute_reply": "2025-04-02T11:43:27.516263Z"
    },
    "id": "lPlzpEavUV8F",
    "papermill": {
     "duration": 5.062195,
     "end_time": "2025-04-02T11:43:27.520529",
     "exception": false,
     "start_time": "2025-04-02T11:43:22.458334",
     "status": "completed"
    },
    "tags": []
   },
   "outputs": [
    {
     "name": "stdout",
     "output_type": "stream",
     "text": [
      "Jasper was no ordinary cat. He possessed a coat the color of burnt caramel, eyes like melted emeralds, and an insatiable thirst for adventure that far exceeded his small, furry frame. While his housemates, Beatrice the Persian and Winston the Maine Coon, were content to nap in sunbeams and demand tuna, Jasper yearned for the unknown.\n",
      "\n",
      "One crisp autumn morning, as the wind rustled the leaves outside, Jasper saw his chance. The back door, usually locked tight, was ajar. An irresistible siren song of the wild called to him. With a flick of his tail and a silent prayer to the feline gods of exploration, he slipped out.\n",
      "\n",
      "The world outside was a symphony of smells and sights. He navigated through towering blades of grass, the earthy scent of damp soil filling his nostrils. He chased butterflies with wings like stained glass and watched squirrels burying treasures for the winter. It was exhilarating.\n",
      "\n",
      "His journey led him to the edge of the woods, a dark and mysterious place he'd only glimpsed from the safety of the window. He hesitated for a moment, a flicker of fear in his emerald eyes, but the call of adventure was too strong. He plunged into the undergrowth.\n",
      "\n",
      "The woods were a labyrinth of gnarled roots and towering trees. Sunlight dappled through the canopy, painting shifting patterns on the forest floor. He encountered a grumpy badger who grumbled about trespassers, a family of deer who regarded him with wary curiosity, and a wise old owl who blinked down at him from a high branch.\n",
      "\n",
      "\"Lost, little one?\" the owl hooted.\n",
      "\n",
      "Jasper, never one to admit weakness, puffed out his chest. \"Lost? Of course not! I'm... exploring!\"\n",
      "\n",
      "The owl chuckled, a dry, rustling sound. \"Exploration often leads to being lost. Just remember, little one, the path home is the one you've already traveled.\"\n",
      "\n",
      "Jasper, ever the independent adventurer, ignored the owl's advice and pressed on. He followed a babbling brook, his paws getting wet as he navigated the slippery stones. He climbed a towering oak, feeling the rough bark against his claws and surveying his kingdom from above.\n",
      "\n",
      "But as the sun began to dip below the horizon, painting the sky in hues of orange and purple, a wave of loneliness washed over him. The woods, once so exciting, now seemed menacing. He missed the warmth of his bed, the comforting purr of Beatrice, even Winston's boisterous demands for tuna.\n",
      "\n",
      "Remembering the owl's words, Jasper turned around. He retraced his steps, following the familiar scent of his own paws, the crunch of leaves he'd already disturbed. The journey back was longer and harder than he remembered, but the thought of home spurred him on.\n",
      "\n",
      "Finally, he saw it – a glimmer of light through the trees. The back door, still slightly ajar. He pushed it open and slipped inside.\n",
      "\n",
      "Beatrice and Winston were curled up on the sofa, oblivious to his grand adventure. He rubbed against Beatrice's fluffy fur, purring with relief. He nudged Winston, who grumbled and stretched.\n",
      "\n",
      "That night, as he nestled between his housemates, feeling the warmth of their bodies against his, Jasper knew he'd changed. He still craved adventure, but he also appreciated the comfort and security of home. He had seen the wild, tasted its freedom, and learned that the greatest adventure of all was having a place to return to.\n",
      "\n",
      "And as he drifted off to sleep, dreaming of rustling leaves and wise old owls, he knew that tomorrow, he would explore again. But this time, he might bring Winston along. Maybe.\n",
      "\n"
     ]
    }
   ],
   "source": [
    "model_config = types.GenerateContentConfig(\n",
    "    # These are the default values for gemini-2.0-flash.\n",
    "    temperature=1.0,\n",
    "    top_p=0.9,\n",
    ")\n",
    "\n",
    "story_prompt = \"You are a creative writer. Write a short story about a cat who goes on an adventure.\"\n",
    "response = client.models.generate_content(\n",
    "    model='gemini-2.0-flash',\n",
    "    config=model_config,\n",
    "    contents=story_prompt)\n",
    "\n",
    "print(response.text)"
   ]
  },
  {
   "cell_type": "markdown",
   "id": "54ac6af9",
   "metadata": {
    "id": "rMrYs1koY6DX",
    "papermill": {
     "duration": 0.014938,
     "end_time": "2025-04-02T11:43:27.550814",
     "exception": false,
     "start_time": "2025-04-02T11:43:27.535876",
     "status": "completed"
    },
    "tags": []
   },
   "source": [
    "## Prompting\n",
    "\n",
    "This section contains some prompts from the chapter for you to try out directly in the API. Try changing the text here to see how each prompt performs with different instructions, more examples, or any other changes you can think of."
   ]
  },
  {
   "cell_type": "markdown",
   "id": "3a4249ce",
   "metadata": {
    "id": "hhj_tQidZJP7",
    "papermill": {
     "duration": 0.014771,
     "end_time": "2025-04-02T11:43:27.580383",
     "exception": false,
     "start_time": "2025-04-02T11:43:27.565612",
     "status": "completed"
    },
    "tags": []
   },
   "source": [
    "### Zero-shot\n",
    "\n",
    "Zero-shot prompts are prompts that describe the request for the model directly.\n",
    "\n",
    "<table align=left>\n",
    "  <td>\n",
    "    <a target=\"_blank\" href=\"https://aistudio.google.com/prompts/1gzKKgDHwkAvexG5Up0LMtl1-6jKMKe4g\"><img src=\"https://ai.google.dev/site-assets/images/marketing/home/icon-ais.png\" style=\"height: 24px\" height=24/> Open in AI Studio</a>\n",
    "  </td>\n",
    "</table>"
   ]
  },
  {
   "cell_type": "code",
   "execution_count": 21,
   "id": "218627d0",
   "metadata": {
    "execution": {
     "iopub.execute_input": "2025-04-02T11:43:27.612631Z",
     "iopub.status.busy": "2025-04-02T11:43:27.611808Z",
     "iopub.status.idle": "2025-04-02T11:43:28.011665Z",
     "shell.execute_reply": "2025-04-02T11:43:28.010311Z"
    },
    "id": "1_t-cwnDZzbH",
    "papermill": {
     "duration": 0.418551,
     "end_time": "2025-04-02T11:43:28.014146",
     "exception": false,
     "start_time": "2025-04-02T11:43:27.595595",
     "status": "completed"
    },
    "tags": []
   },
   "outputs": [
    {
     "name": "stdout",
     "output_type": "stream",
     "text": [
      "POSITIVE\n",
      "\n"
     ]
    }
   ],
   "source": [
    "model_config = types.GenerateContentConfig(\n",
    "    temperature=0.1,\n",
    "    top_p=1,\n",
    "    max_output_tokens=5,\n",
    ")\n",
    "\n",
    "zero_shot_prompt = \"\"\"Classify movie reviews as POSITIVE, NEUTRAL or NEGATIVE.\n",
    "Review: \"Her\" is a disturbing study revealing the direction\n",
    "humanity is headed if AI is allowed to keep evolving,\n",
    "unchecked. I wish there were more movies like this masterpiece.\n",
    "Sentiment: \"\"\"\n",
    "\n",
    "response = client.models.generate_content(\n",
    "    model='gemini-2.0-flash',\n",
    "    config=model_config,\n",
    "    contents=zero_shot_prompt)\n",
    "\n",
    "print(response.text)"
   ]
  },
  {
   "cell_type": "markdown",
   "id": "50f29601",
   "metadata": {
    "id": "3b5568bdeb11",
    "papermill": {
     "duration": 0.015124,
     "end_time": "2025-04-02T11:43:28.044157",
     "exception": false,
     "start_time": "2025-04-02T11:43:28.029033",
     "status": "completed"
    },
    "tags": []
   },
   "source": [
    "#### Enum mode\n",
    "\n",
    "The models are trained to generate text, and while the Gemini 2.0 models are great at following instructions, other models can sometimes produce more text than you may wish for. In the preceding example, the model will output the label, but sometimes it can include a preceding \"Sentiment\" label, and without an output token limit, it may also add explanatory text afterwards. See [this prompt in AI Studio](https://aistudio.google.com/prompts/1gzKKgDHwkAvexG5Up0LMtl1-6jKMKe4g) for an example.\n",
    "\n",
    "The Gemini API has an [Enum mode](https://github.com/google-gemini/cookbook/blob/main/quickstarts/Enum.ipynb) feature that allows you to constrain the output to a fixed set of values."
   ]
  },
  {
   "cell_type": "code",
   "execution_count": 22,
   "id": "b79144c4",
   "metadata": {
    "execution": {
     "iopub.execute_input": "2025-04-02T11:43:28.076277Z",
     "iopub.status.busy": "2025-04-02T11:43:28.075827Z",
     "iopub.status.idle": "2025-04-02T11:43:28.556200Z",
     "shell.execute_reply": "2025-04-02T11:43:28.555083Z"
    },
    "id": "ad118a56c598",
    "papermill": {
     "duration": 0.499268,
     "end_time": "2025-04-02T11:43:28.558659",
     "exception": false,
     "start_time": "2025-04-02T11:43:28.059391",
     "status": "completed"
    },
    "tags": []
   },
   "outputs": [
    {
     "name": "stdout",
     "output_type": "stream",
     "text": [
      "positive\n"
     ]
    }
   ],
   "source": [
    "import enum\n",
    "\n",
    "class Sentiment(enum.Enum):\n",
    "    POSITIVE = \"positive\"\n",
    "    NEUTRAL = \"neutral\"\n",
    "    NEGATIVE = \"negative\"\n",
    "\n",
    "\n",
    "response = client.models.generate_content(\n",
    "    model='gemini-2.0-flash',\n",
    "    config=types.GenerateContentConfig(\n",
    "        response_mime_type=\"text/x.enum\",\n",
    "        response_schema=Sentiment\n",
    "    ),\n",
    "    contents=zero_shot_prompt)\n",
    "\n",
    "print(response.text)"
   ]
  },
  {
   "cell_type": "markdown",
   "id": "60c4540c",
   "metadata": {
    "papermill": {
     "duration": 0.014542,
     "end_time": "2025-04-02T11:43:28.588661",
     "exception": false,
     "start_time": "2025-04-02T11:43:28.574119",
     "status": "completed"
    },
    "tags": []
   },
   "source": [
    "When using constrained output like an enum, the Python SDK will attempt to convert the model's text response into a Python object automatically. It's stored in the `response.parsed` field."
   ]
  },
  {
   "cell_type": "code",
   "execution_count": 23,
   "id": "19fab266",
   "metadata": {
    "execution": {
     "iopub.execute_input": "2025-04-02T11:43:28.620139Z",
     "iopub.status.busy": "2025-04-02T11:43:28.619612Z",
     "iopub.status.idle": "2025-04-02T11:43:28.625368Z",
     "shell.execute_reply": "2025-04-02T11:43:28.624373Z"
    },
    "papermill": {
     "duration": 0.024503,
     "end_time": "2025-04-02T11:43:28.628074",
     "exception": false,
     "start_time": "2025-04-02T11:43:28.603571",
     "status": "completed"
    },
    "tags": []
   },
   "outputs": [
    {
     "name": "stdout",
     "output_type": "stream",
     "text": [
      "Sentiment.POSITIVE\n",
      "<enum 'Sentiment'>\n"
     ]
    }
   ],
   "source": [
    "enum_response = response.parsed\n",
    "print(enum_response)\n",
    "print(type(enum_response))"
   ]
  },
  {
   "cell_type": "markdown",
   "id": "dc2148e8",
   "metadata": {
    "id": "0udiSwNbv45W",
    "papermill": {
     "duration": 0.014825,
     "end_time": "2025-04-02T11:43:28.657882",
     "exception": false,
     "start_time": "2025-04-02T11:43:28.643057",
     "status": "completed"
    },
    "tags": []
   },
   "source": [
    "### One-shot and few-shot\n",
    "\n",
    "Providing an example of the expected response is known as a \"one-shot\" prompt. When you provide multiple examples, it is a \"few-shot\" prompt.\n",
    "\n",
    "<table align=left>\n",
    "  <td>\n",
    "    <a target=\"_blank\" href=\"https://aistudio.google.com/prompts/1jjWkjUSoMXmLvMJ7IzADr_GxHPJVV2bg\"><img src=\"https://ai.google.dev/site-assets/images/marketing/home/icon-ais.png\" style=\"height: 24px\" height=24/> Open in AI Studio</a>\n",
    "  </td>\n",
    "</table>\n"
   ]
  },
  {
   "cell_type": "code",
   "execution_count": 24,
   "id": "e43bb141",
   "metadata": {
    "execution": {
     "iopub.execute_input": "2025-04-02T11:43:28.689576Z",
     "iopub.status.busy": "2025-04-02T11:43:28.689215Z",
     "iopub.status.idle": "2025-04-02T11:43:29.186286Z",
     "shell.execute_reply": "2025-04-02T11:43:29.185193Z"
    },
    "id": "hd4mVUukwOKZ",
    "papermill": {
     "duration": 0.515991,
     "end_time": "2025-04-02T11:43:29.188818",
     "exception": false,
     "start_time": "2025-04-02T11:43:28.672827",
     "status": "completed"
    },
    "tags": []
   },
   "outputs": [
    {
     "name": "stdout",
     "output_type": "stream",
     "text": [
      "```json\n",
      "{\n",
      "\"size\": \"large\",\n",
      "\"type\": \"normal\",\n",
      "\"ingredients\": [\"cheese\", \"pineapple\"]\n",
      "}\n",
      "```\n",
      "\n"
     ]
    }
   ],
   "source": [
    "few_shot_prompt = \"\"\"Parse a customer's pizza order into valid JSON:\n",
    "\n",
    "EXAMPLE:\n",
    "I want a small pizza with cheese, tomato sauce, and pepperoni.\n",
    "JSON Response:\n",
    "```\n",
    "{\n",
    "\"size\": \"small\",\n",
    "\"type\": \"normal\",\n",
    "\"ingredients\": [\"cheese\", \"tomato sauce\", \"pepperoni\"]\n",
    "}\n",
    "```\n",
    "\n",
    "EXAMPLE:\n",
    "Can I get a large pizza with tomato sauce, basil and mozzarella\n",
    "JSON Response:\n",
    "```\n",
    "{\n",
    "\"size\": \"large\",\n",
    "\"type\": \"normal\",\n",
    "\"ingredients\": [\"tomato sauce\", \"basil\", \"mozzarella\"]\n",
    "}\n",
    "```\n",
    "\n",
    "ORDER:\n",
    "\"\"\"\n",
    "\n",
    "customer_order = \"Give me a large with cheese & pineapple\"\n",
    "\n",
    "response = client.models.generate_content(\n",
    "    model='gemini-2.0-flash',\n",
    "    config=types.GenerateContentConfig(\n",
    "        temperature=0.1,\n",
    "        top_p=1,\n",
    "        max_output_tokens=250,\n",
    "    ),\n",
    "    contents=[few_shot_prompt, customer_order])\n",
    "\n",
    "print(response.text)"
   ]
  },
  {
   "cell_type": "markdown",
   "id": "7ec62b4c",
   "metadata": {
    "id": "021293096f08",
    "papermill": {
     "duration": 0.014796,
     "end_time": "2025-04-02T11:43:29.218843",
     "exception": false,
     "start_time": "2025-04-02T11:43:29.204047",
     "status": "completed"
    },
    "tags": []
   },
   "source": [
    "#### JSON mode\n",
    "\n",
    "To provide control over the schema, and to ensure that you only receive JSON (with no other text or markdown), you can use the Gemini API's [JSON mode](https://github.com/google-gemini/cookbook/blob/main/quickstarts/JSON_mode.ipynb). This forces the model to constrain decoding, such that token selection is guided by the supplied schema."
   ]
  },
  {
   "cell_type": "code",
   "execution_count": 25,
   "id": "5f804aba",
   "metadata": {
    "execution": {
     "iopub.execute_input": "2025-04-02T11:43:29.250399Z",
     "iopub.status.busy": "2025-04-02T11:43:29.250030Z",
     "iopub.status.idle": "2025-04-02T11:43:29.830157Z",
     "shell.execute_reply": "2025-04-02T11:43:29.828769Z"
    },
    "id": "50fbf0260912",
    "papermill": {
     "duration": 0.598958,
     "end_time": "2025-04-02T11:43:29.832747",
     "exception": false,
     "start_time": "2025-04-02T11:43:29.233789",
     "status": "completed"
    },
    "tags": []
   },
   "outputs": [
    {
     "name": "stdout",
     "output_type": "stream",
     "text": [
      "{\n",
      "  \"size\": \"large\",\n",
      "  \"ingredients\": [\"apple\", \"chocolate\"],\n",
      "  \"type\": \"dessert\"\n",
      "}\n"
     ]
    }
   ],
   "source": [
    "import typing_extensions as typing\n",
    "\n",
    "class PizzaOrder(typing.TypedDict):\n",
    "    size: str\n",
    "    ingredients: list[str]\n",
    "    type: str\n",
    "\n",
    "\n",
    "response = client.models.generate_content(\n",
    "    model='gemini-2.0-flash',\n",
    "    config=types.GenerateContentConfig(\n",
    "        temperature=0.1,\n",
    "        response_mime_type=\"application/json\",\n",
    "        response_schema=PizzaOrder,\n",
    "    ),\n",
    "    contents=\"Can I have a large dessert pizza with apple and chocolate\")\n",
    "\n",
    "print(response.text)"
   ]
  },
  {
   "cell_type": "markdown",
   "id": "7d35193e",
   "metadata": {
    "id": "4a93e338e57c",
    "papermill": {
     "duration": 0.014673,
     "end_time": "2025-04-02T11:43:29.862694",
     "exception": false,
     "start_time": "2025-04-02T11:43:29.848021",
     "status": "completed"
    },
    "tags": []
   },
   "source": [
    "### Chain of Thought (CoT)\n",
    "\n",
    "Direct prompting on LLMs can return answers quickly and (in terms of output token usage) efficiently, but they can be prone to hallucination. The answer may \"look\" correct (in terms of language and syntax) but is incorrect in terms of factuality and reasoning.\n",
    "\n",
    "Chain-of-Thought prompting is a technique where you instruct the model to output intermediate reasoning steps, and it typically gets better results, especially when combined with few-shot examples. It is worth noting that this technique doesn't completely eliminate hallucinations, and that it tends to cost more to run, due to the increased token count.\n",
    "\n",
    "Models like the Gemini family are trained to be \"chatty\" or \"thoughtful\" and will provide reasoning steps without prompting, so for this simple example you can ask the model to be more direct in the prompt to force a non-reasoning response. Try re-running this step if the model gets lucky and gets the answer correct on the first try."
   ]
  },
  {
   "cell_type": "code",
   "execution_count": 26,
   "id": "d41e370c",
   "metadata": {
    "execution": {
     "iopub.execute_input": "2025-04-02T11:43:29.894664Z",
     "iopub.status.busy": "2025-04-02T11:43:29.894275Z",
     "iopub.status.idle": "2025-04-02T11:43:30.436804Z",
     "shell.execute_reply": "2025-04-02T11:43:30.435668Z"
    },
    "id": "5715555db1c1",
    "papermill": {
     "duration": 0.561513,
     "end_time": "2025-04-02T11:43:30.439101",
     "exception": false,
     "start_time": "2025-04-02T11:43:29.877588",
     "status": "completed"
    },
    "tags": []
   },
   "outputs": [
    {
     "name": "stdout",
     "output_type": "stream",
     "text": [
      "68\n",
      "\n"
     ]
    }
   ],
   "source": [
    "prompt = \"\"\"When I was 4 years old, my partner was 3 times my age. Now, I\n",
    "am 20 years old. How old is my partner? Return the answer directly.\"\"\"\n",
    "\n",
    "response = client.models.generate_content(\n",
    "    model='gemini-2.0-flash',\n",
    "    contents=prompt)\n",
    "\n",
    "print(response.text)"
   ]
  },
  {
   "cell_type": "markdown",
   "id": "ff5ec05e",
   "metadata": {
    "id": "e12b19677bfd",
    "papermill": {
     "duration": 0.014889,
     "end_time": "2025-04-02T11:43:30.469220",
     "exception": false,
     "start_time": "2025-04-02T11:43:30.454331",
     "status": "completed"
    },
    "tags": []
   },
   "source": [
    "Now try the same approach, but indicate to the model that it should \"think step by step\"."
   ]
  },
  {
   "cell_type": "code",
   "execution_count": 27,
   "id": "1cdaafe0",
   "metadata": {
    "execution": {
     "iopub.execute_input": "2025-04-02T11:43:30.501173Z",
     "iopub.status.busy": "2025-04-02T11:43:30.500782Z",
     "iopub.status.idle": "2025-04-02T11:43:31.411150Z",
     "shell.execute_reply": "2025-04-02T11:43:31.409948Z"
    },
    "id": "ffd7536a481f",
    "papermill": {
     "duration": 0.929154,
     "end_time": "2025-04-02T11:43:31.413532",
     "exception": false,
     "start_time": "2025-04-02T11:43:30.484378",
     "status": "completed"
    },
    "tags": []
   },
   "outputs": [
    {
     "data": {
      "text/markdown": [
       "Here's how to solve the problem step-by-step:\n",
       "\n",
       "1. **Find the age difference:** When you were 4, your partner was 3 times your age, meaning they were 4 * 3 = 12 years old.\n",
       "\n",
       "2. **Calculate the age difference:** The age difference between you and your partner is 12 - 4 = 8 years.\n",
       "\n",
       "3. **Determine the partner's current age:** Since the age difference remains constant, your partner is always 8 years older than you. Now that you are 20, your partner is 20 + 8 = 28 years old.\n",
       "\n",
       "**Therefore, your partner is currently 28 years old.**\n"
      ],
      "text/plain": [
       "<IPython.core.display.Markdown object>"
      ]
     },
     "execution_count": 27,
     "metadata": {},
     "output_type": "execute_result"
    }
   ],
   "source": [
    "prompt = \"\"\"When I was 4 years old, my partner was 3 times my age. Now,\n",
    "I am 20 years old. How old is my partner? Let's think step by step.\"\"\"\n",
    "\n",
    "response = client.models.generate_content(\n",
    "    model='gemini-2.0-flash',\n",
    "    contents=prompt)\n",
    "\n",
    "Markdown(response.text)"
   ]
  },
  {
   "cell_type": "markdown",
   "id": "75dcc94b",
   "metadata": {
    "id": "oiLgBQJj0V53",
    "papermill": {
     "duration": 0.014982,
     "end_time": "2025-04-02T11:43:31.444027",
     "exception": false,
     "start_time": "2025-04-02T11:43:31.429045",
     "status": "completed"
    },
    "tags": []
   },
   "source": [
    "### ReAct: Reason and act\n",
    "\n",
    "In this example you will run a ReAct prompt directly in the Gemini API and perform the searching steps yourself. As this prompt follows a well-defined structure, there are frameworks available that wrap the prompt into easier-to-use APIs that make tool calls automatically, such as the LangChain example from the \"Prompting\" whitepaper.\n",
    "\n",
    "To try this out with the Wikipedia search engine, check out the [Searching Wikipedia with ReAct](https://github.com/google-gemini/cookbook/blob/main/examples/Search_Wikipedia_using_ReAct.ipynb) cookbook example.\n",
    "\n",
    "\n",
    "> Note: The prompt and in-context examples used here are from [https://github.com/ysymyth/ReAct](https://github.com/ysymyth/ReAct) which is published under an [MIT license](https://opensource.org/licenses/MIT), Copyright (c) 2023 Shunyu Yao.\n",
    "\n",
    "<table align=left>\n",
    "  <td>\n",
    "    <a target=\"_blank\" href=\"https://aistudio.google.com/prompts/18oo63Lwosd-bQ6Ay51uGogB3Wk3H8XMO\"><img src=\"https://ai.google.dev/site-assets/images/marketing/home/icon-ais.png\" style=\"height: 24px\" height=24/> Open in AI Studio</a>\n",
    "  </td>\n",
    "</table>\n"
   ]
  },
  {
   "cell_type": "code",
   "execution_count": 28,
   "id": "d039bdea",
   "metadata": {
    "execution": {
     "iopub.execute_input": "2025-04-02T11:43:31.476871Z",
     "iopub.status.busy": "2025-04-02T11:43:31.476185Z",
     "iopub.status.idle": "2025-04-02T11:43:31.482915Z",
     "shell.execute_reply": "2025-04-02T11:43:31.481889Z"
    },
    "id": "cBgyNJ5z0VSs",
    "papermill": {
     "duration": 0.025935,
     "end_time": "2025-04-02T11:43:31.485104",
     "exception": false,
     "start_time": "2025-04-02T11:43:31.459169",
     "status": "completed"
    },
    "tags": []
   },
   "outputs": [],
   "source": [
    "model_instructions = \"\"\"\n",
    "Solve a question answering task with interleaving Thought, Action, Observation steps. Thought can reason about the current situation,\n",
    "Observation is understanding relevant information from an Action's output and Action can be one of three types:\n",
    " (1) <search>entity</search>, which searches the exact entity on Wikipedia and returns the first paragraph if it exists. If not, it\n",
    "     will return some similar entities to search and you can try to search the information from those topics.\n",
    " (2) <lookup>keyword</lookup>, which returns the next sentence containing keyword in the current context. This only does exact matches,\n",
    "     so keep your searches short.\n",
    " (3) <finish>answer</finish>, which returns the answer and finishes the task.\n",
    "\"\"\"\n",
    "\n",
    "example1 = \"\"\"Question\n",
    "Musician and satirist Allie Goertz wrote a song about the \"The Simpsons\" character Milhouse, who Matt Groening named after who?\n",
    "\n",
    "Thought 1\n",
    "The question simplifies to \"The Simpsons\" character Milhouse is named after who. I only need to search Milhouse and find who it is named after.\n",
    "\n",
    "Action 1\n",
    "<search>Milhouse</search>\n",
    "\n",
    "Observation 1\n",
    "Milhouse Mussolini Van Houten is a recurring character in the Fox animated television series The Simpsons voiced by Pamela Hayden and created by Matt Groening.\n",
    "\n",
    "Thought 2\n",
    "The paragraph does not tell who Milhouse is named after, maybe I can look up \"named after\".\n",
    "\n",
    "Action 2\n",
    "<lookup>named after</lookup>\n",
    "\n",
    "Observation 2\n",
    "Milhouse was named after U.S. president Richard Nixon, whose middle name was Milhous.\n",
    "\n",
    "Thought 3\n",
    "Milhouse was named after U.S. president Richard Nixon, so the answer is Richard Nixon.\n",
    "\n",
    "Action 3\n",
    "<finish>Richard Nixon</finish>\n",
    "\"\"\"\n",
    "\n",
    "example2 = \"\"\"Question\n",
    "What is the elevation range for the area that the eastern sector of the Colorado orogeny extends into?\n",
    "\n",
    "Thought 1\n",
    "I need to search Colorado orogeny, find the area that the eastern sector of the Colorado orogeny extends into, then find the elevation range of the area.\n",
    "\n",
    "Action 1\n",
    "<search>Colorado orogeny</search>\n",
    "\n",
    "Observation 1\n",
    "The Colorado orogeny was an episode of mountain building (an orogeny) in Colorado and surrounding areas.\n",
    "\n",
    "Thought 2\n",
    "It does not mention the eastern sector. So I need to look up eastern sector.\n",
    "\n",
    "Action 2\n",
    "<lookup>eastern sector</lookup>\n",
    "\n",
    "Observation 2\n",
    "The eastern sector extends into the High Plains and is called the Central Plains orogeny.\n",
    "\n",
    "Thought 3\n",
    "The eastern sector of Colorado orogeny extends into the High Plains. So I need to search High Plains and find its elevation range.\n",
    "\n",
    "Action 3\n",
    "<search>High Plains</search>\n",
    "\n",
    "Observation 3\n",
    "High Plains refers to one of two distinct land regions\n",
    "\n",
    "Thought 4\n",
    "I need to instead search High Plains (United States).\n",
    "\n",
    "Action 4\n",
    "<search>High Plains (United States)</search>\n",
    "\n",
    "Observation 4\n",
    "The High Plains are a subregion of the Great Plains. From east to west, the High Plains rise in elevation from around 1,800 to 7,000 ft (550 to 2,130m).\n",
    "\n",
    "Thought 5\n",
    "High Plains rise in elevation from around 1,800 to 7,000 ft, so the answer is 1,800 to 7,000 ft.\n",
    "\n",
    "Action 5\n",
    "<finish>1,800 to 7,000 ft</finish>\n",
    "\"\"\"\n",
    "\n",
    "# Come up with more examples yourself, or take a look through https://github.com/ysymyth/ReAct/"
   ]
  },
  {
   "cell_type": "markdown",
   "id": "9ed1eeba",
   "metadata": {
    "id": "C3wbfstjTgey",
    "papermill": {
     "duration": 0.015423,
     "end_time": "2025-04-02T11:43:31.515808",
     "exception": false,
     "start_time": "2025-04-02T11:43:31.500385",
     "status": "completed"
    },
    "tags": []
   },
   "source": [
    "To capture a single step at a time, while ignoring any hallucinated Observation steps, you will use `stop_sequences` to end the generation process. The steps are `Thought`, `Action`, `Observation`, in that order."
   ]
  },
  {
   "cell_type": "code",
   "execution_count": 29,
   "id": "ab54e5e8",
   "metadata": {
    "execution": {
     "iopub.execute_input": "2025-04-02T11:43:31.548384Z",
     "iopub.status.busy": "2025-04-02T11:43:31.547385Z",
     "iopub.status.idle": "2025-04-02T11:43:32.157727Z",
     "shell.execute_reply": "2025-04-02T11:43:32.156415Z"
    },
    "id": "8mxrXRkRTdXm",
    "papermill": {
     "duration": 0.629164,
     "end_time": "2025-04-02T11:43:32.160140",
     "exception": false,
     "start_time": "2025-04-02T11:43:31.530976",
     "status": "completed"
    },
    "tags": []
   },
   "outputs": [
    {
     "name": "stdout",
     "output_type": "stream",
     "text": [
      "Thought 1\n",
      "I need to find the transformers NLP paper and identify the youngest author listed on it.\n",
      "\n",
      "Action 1\n",
      "<search>transformers NLP paper</search>\n",
      "\n"
     ]
    }
   ],
   "source": [
    "question = \"\"\"Question\n",
    "Who was the youngest author listed on the transformers NLP paper?\n",
    "\"\"\"\n",
    "\n",
    "# You will perform the Action; so generate up to, but not including, the Observation.\n",
    "react_config = types.GenerateContentConfig(\n",
    "    stop_sequences=[\"\\nObservation\"],\n",
    "    system_instruction=model_instructions + example1 + example2,\n",
    ")\n",
    "\n",
    "# Create a chat that has the model instructions and examples pre-seeded.\n",
    "react_chat = client.chats.create(\n",
    "    model='gemini-2.0-flash',\n",
    "    config=react_config,\n",
    ")\n",
    "\n",
    "resp = react_chat.send_message(question)\n",
    "print(resp.text)"
   ]
  },
  {
   "cell_type": "markdown",
   "id": "747d331b",
   "metadata": {
    "id": "aW2PIdLbVv3l",
    "papermill": {
     "duration": 0.015226,
     "end_time": "2025-04-02T11:43:32.190718",
     "exception": false,
     "start_time": "2025-04-02T11:43:32.175492",
     "status": "completed"
    },
    "tags": []
   },
   "source": [
    "Now you can perform this research yourself and supply it back to the model."
   ]
  },
  {
   "cell_type": "code",
   "execution_count": 30,
   "id": "e010f801",
   "metadata": {
    "execution": {
     "iopub.execute_input": "2025-04-02T11:43:32.223681Z",
     "iopub.status.busy": "2025-04-02T11:43:32.222853Z",
     "iopub.status.idle": "2025-04-02T11:43:32.945378Z",
     "shell.execute_reply": "2025-04-02T11:43:32.944097Z"
    },
    "id": "mLMc0DZaV9g2",
    "papermill": {
     "duration": 0.741783,
     "end_time": "2025-04-02T11:43:32.947816",
     "exception": false,
     "start_time": "2025-04-02T11:43:32.206033",
     "status": "completed"
    },
    "tags": []
   },
   "outputs": [
    {
     "name": "stdout",
     "output_type": "stream",
     "text": [
      "Thought 2\n",
      "The observation lists the authors as Ashish Vaswani, Noam Shazeer, Niki Parmar, Jakob Uszkoreit, Llion Jones, Aidan N. Gomez, Lukasz Kaiser, and Illia Polosukhin. I would need to search each of these names to find their birth dates to determine who is the youngest.\n",
      "\n",
      "Action 2\n",
      "<search>Ashish Vaswani</search>\n",
      "\n"
     ]
    }
   ],
   "source": [
    "observation = \"\"\"Observation 1\n",
    "[1706.03762] Attention Is All You Need\n",
    "Ashish Vaswani, Noam Shazeer, Niki Parmar, Jakob Uszkoreit, Llion Jones, Aidan N. Gomez, Lukasz Kaiser, Illia Polosukhin\n",
    "We propose a new simple network architecture, the Transformer, based solely on attention mechanisms, dispensing with recurrence and convolutions entirely.\n",
    "\"\"\"\n",
    "resp = react_chat.send_message(observation)\n",
    "print(resp.text)"
   ]
  },
  {
   "cell_type": "markdown",
   "id": "5c9a7656",
   "metadata": {
    "id": "bo0tzf4nX6dA",
    "papermill": {
     "duration": 0.016938,
     "end_time": "2025-04-02T11:43:32.980521",
     "exception": false,
     "start_time": "2025-04-02T11:43:32.963583",
     "status": "completed"
    },
    "tags": []
   },
   "source": [
    "This process repeats until the `<finish>` action is reached. You can continue running this yourself if you like, or try the [Wikipedia example](https://github.com/google-gemini/cookbook/blob/main/examples/Search_Wikipedia_using_ReAct.ipynb) to see a fully automated ReAct system at work."
   ]
  },
  {
   "cell_type": "markdown",
   "id": "d89e4444",
   "metadata": {
    "papermill": {
     "duration": 0.015148,
     "end_time": "2025-04-02T11:43:33.011529",
     "exception": false,
     "start_time": "2025-04-02T11:43:32.996381",
     "status": "completed"
    },
    "tags": []
   },
   "source": [
    "## Thinking mode\n",
    "\n",
    "The experiemental Gemini Flash 2.0 \"Thinking\" model has been trained to generate the \"thinking process\" the model goes through as part of its response. As a result, the Flash Thinking model is capable of stronger reasoning capabilities in its responses.\n",
    "\n",
    "Using a \"thinking mode\" model can provide you with high-quality responses without needing specialised prompting like the previous approaches. One reason this technique is effective is that you induce the model to generate relevant information (\"brainstorming\", or \"thoughts\") that is then used as part of the context in which the final response is generated.\n",
    "\n",
    "Note that when you use the API, you get the final response from the model, but the thoughts are not captured. To see the intermediate thoughts, try out [the thinking mode model in AI Studio](https://aistudio.google.com/prompts/new_chat?model=gemini-2.0-flash-thinking-exp-01-21).\n",
    "\n",
    "<table align=left>\n",
    "  <td>\n",
    "    <a target=\"_blank\" href=\"https://aistudio.google.com/prompts/1Z991SV7lZZZqioOiqIUPv9a9ix-ws4zk\"><img src=\"https://ai.google.dev/site-assets/images/marketing/home/icon-ais.png\" style=\"height: 24px\" height=24/> Open in AI Studio</a>\n",
    "  </td>\n",
    "</table>"
   ]
  },
  {
   "cell_type": "code",
   "execution_count": 31,
   "id": "df9f30d1",
   "metadata": {
    "execution": {
     "iopub.execute_input": "2025-04-02T11:43:33.044809Z",
     "iopub.status.busy": "2025-04-02T11:43:33.044440Z",
     "iopub.status.idle": "2025-04-02T11:44:16.426211Z",
     "shell.execute_reply": "2025-04-02T11:44:16.425002Z"
    },
    "papermill": {
     "duration": 43.400856,
     "end_time": "2025-04-02T11:44:16.428462",
     "exception": false,
     "start_time": "2025-04-02T11:43:33.027606",
     "status": "completed"
    },
    "tags": []
   },
   "outputs": [
    {
     "data": {
      "text/markdown": [
       "The youngest author listed on the original Transformer paper, titled **\"Attention is All You Need\"**, is likely **Aidan N. Gomez**.\n",
       "\n",
       "Here's why:\n",
       "\n",
       "* **\"Attention is All You Need\"** is the seminal paper that introduced the Transformer architecture.\n",
       "* The authors are: Ashish Vaswani, Noam Shazeer, Niki Parmar, Jakob Uszkoreit, Llion Jones, Aidan N. Gomez, Łukasz Kaiser, and Illia Polosukhin.\n",
       "* While precise birthdates aren't readily available for all authors, **Aidan N. Gomez** was a PhD student at the University of Toronto under Geoffrey Hinton at the time of the paper's publication. This typically indicates a younger age compared to the other authors who were mostly researchers at Google Brain and other established institutions.\n",
       "\n",
       "While we can't definitively say with 100% certainty without knowing everyone's exact birthdates, based on typical academic career paths and publicly available information, **Aidan N. Gomez is highly likely to be the youngest author** of the \"Attention is All You Need\" paper."
      ],
      "text/plain": [
       "<IPython.core.display.Markdown object>"
      ]
     },
     "execution_count": 31,
     "metadata": {},
     "output_type": "execute_result"
    }
   ],
   "source": [
    "import io\n",
    "from IPython.display import Markdown, clear_output\n",
    "\n",
    "\n",
    "response = client.models.generate_content_stream(\n",
    "    model='gemini-2.0-flash-thinking-exp',\n",
    "    contents='Who was the youngest author listed on the transformers NLP paper?',\n",
    ")\n",
    "\n",
    "buf = io.StringIO()\n",
    "for chunk in response:\n",
    "    buf.write(chunk.text)\n",
    "    # Display the response as it is streamed\n",
    "    print(chunk.text, end='')\n",
    "\n",
    "# And then render the finished response as formatted markdown.\n",
    "clear_output()\n",
    "Markdown(buf.getvalue())"
   ]
  },
  {
   "cell_type": "markdown",
   "id": "f99dccdd",
   "metadata": {
    "id": "jPiZ_eIIaVPt",
    "papermill": {
     "duration": 0.015397,
     "end_time": "2025-04-02T11:44:16.460639",
     "exception": false,
     "start_time": "2025-04-02T11:44:16.445242",
     "status": "completed"
    },
    "tags": []
   },
   "source": [
    "## Code prompting"
   ]
  },
  {
   "cell_type": "markdown",
   "id": "dd264f1e",
   "metadata": {
    "id": "ZinKamwXeR6C",
    "papermill": {
     "duration": 0.016281,
     "end_time": "2025-04-02T11:44:16.493098",
     "exception": false,
     "start_time": "2025-04-02T11:44:16.476817",
     "status": "completed"
    },
    "tags": []
   },
   "source": [
    "### Generating code\n",
    "\n",
    "The Gemini family of models can be used to generate code, configuration and scripts. Generating code can be helpful when learning to code, learning a new language or for rapidly generating a first draft.\n",
    "\n",
    "It's important to be aware that since LLMs can make mistakes, and can repeat training data, it's essential to read and test your code first, and comply with any relevant licenses.\n",
    "\n",
    "<table align=left>\n",
    "  <td>\n",
    "    <a target=\"_blank\" href=\"https://aistudio.google.com/prompts/1YX71JGtzDjXQkgdes8bP6i3oH5lCRKxv\"><img src=\"https://ai.google.dev/site-assets/images/marketing/home/icon-ais.png\" style=\"height: 24px\" height=24/> Open in AI Studio</a>\n",
    "  </td>\n",
    "</table>"
   ]
  },
  {
   "cell_type": "code",
   "execution_count": 32,
   "id": "e897fb13",
   "metadata": {
    "execution": {
     "iopub.execute_input": "2025-04-02T11:44:16.526373Z",
     "iopub.status.busy": "2025-04-02T11:44:16.525973Z",
     "iopub.status.idle": "2025-04-02T11:44:17.172198Z",
     "shell.execute_reply": "2025-04-02T11:44:17.171030Z"
    },
    "id": "fOQP9pqmeUO1",
    "papermill": {
     "duration": 0.665247,
     "end_time": "2025-04-02T11:44:17.174520",
     "exception": false,
     "start_time": "2025-04-02T11:44:16.509273",
     "status": "completed"
    },
    "tags": []
   },
   "outputs": [
    {
     "data": {
      "text/markdown": [
       "```python\n",
       "def factorial(n):\n",
       "  \"\"\"\n",
       "  Calculate the factorial of a number.\n",
       "  \"\"\"\n",
       "  if n == 0:\n",
       "    return 1\n",
       "  else:\n",
       "    return n * factorial(n-1)\n",
       "```\n"
      ],
      "text/plain": [
       "<IPython.core.display.Markdown object>"
      ]
     },
     "execution_count": 32,
     "metadata": {},
     "output_type": "execute_result"
    }
   ],
   "source": [
    "# The Gemini models love to talk, so it helps to specify they stick to the code if that\n",
    "# is all that you want.\n",
    "code_prompt = \"\"\"\n",
    "Write a Python function to calculate the factorial of a number. No explanation, provide only the code.\n",
    "\"\"\"\n",
    "\n",
    "response = client.models.generate_content(\n",
    "    model='gemini-2.0-flash',\n",
    "    config=types.GenerateContentConfig(\n",
    "        temperature=1,\n",
    "        top_p=1,\n",
    "        max_output_tokens=1024,\n",
    "    ),\n",
    "    contents=code_prompt)\n",
    "\n",
    "Markdown(response.text)"
   ]
  },
  {
   "cell_type": "markdown",
   "id": "42b4e0c2",
   "metadata": {
    "id": "wlBMWSFhgVRQ",
    "papermill": {
     "duration": 0.015452,
     "end_time": "2025-04-02T11:44:17.206508",
     "exception": false,
     "start_time": "2025-04-02T11:44:17.191056",
     "status": "completed"
    },
    "tags": []
   },
   "source": [
    "### Code execution\n",
    "\n",
    "The Gemini API can automatically run generated code too, and will return the output.\n",
    "\n",
    "<table align=left>\n",
    "  <td>\n",
    "    <a target=\"_blank\" href=\"https://aistudio.google.com/prompts/11veFr_VYEwBWcLkhNLr-maCG0G8sS_7Z\"><img src=\"https://ai.google.dev/site-assets/images/marketing/home/icon-ais.png\" style=\"height: 24px\" height=24/> Open in AI Studio</a>\n",
    "  </td>\n",
    "</table>"
   ]
  },
  {
   "cell_type": "code",
   "execution_count": 33,
   "id": "7210a1b5",
   "metadata": {
    "execution": {
     "iopub.execute_input": "2025-04-02T11:44:17.239715Z",
     "iopub.status.busy": "2025-04-02T11:44:17.239341Z",
     "iopub.status.idle": "2025-04-02T11:44:19.245814Z",
     "shell.execute_reply": "2025-04-02T11:44:19.244671Z"
    },
    "id": "jT3OfWYfhjRL",
    "papermill": {
     "duration": 2.026226,
     "end_time": "2025-04-02T11:44:19.248583",
     "exception": false,
     "start_time": "2025-04-02T11:44:17.222357",
     "status": "completed"
    },
    "tags": []
   },
   "outputs": [
    {
     "name": "stdout",
     "output_type": "stream",
     "text": [
      "{'text': 'Okay, I can do that. First, I need to identify the first 14 odd '\n",
      "         'prime numbers. Remember that a prime number is a number greater than '\n",
      "         '1 that has no positive divisors other than 1 and itself. The first '\n",
      "         'few primes are 2, 3, 5, 7, 11, and so on. Since the question asks '\n",
      "         'for odd prime numbers, I will exclude 2 from the list.\\n'\n",
      "         '\\n'\n",
      "         'Then I will calculate their sum.\\n'\n",
      "         '\\n'}\n",
      "-----\n",
      "{'executable_code': {'code': 'primes = [3, 5, 7, 11, 13, 17, 19, 23, 29, 31, '\n",
      "                             '37, 41, 43, 47]\\n'\n",
      "                             'sum_of_primes = sum(primes)\\n'\n",
      "                             \"print(f'{primes=}')\\n\"\n",
      "                             \"print(f'{sum_of_primes=}')\\n\",\n",
      "                     'language': 'PYTHON'}}\n",
      "-----\n",
      "{'code_execution_result': {'outcome': 'OUTCOME_OK',\n",
      "                           'output': 'primes=[3, 5, 7, 11, 13, 17, 19, 23, 29, '\n",
      "                                     '31, 37, 41, 43, 47]\\n'\n",
      "                                     'sum_of_primes=326\\n'}}\n",
      "-----\n",
      "{'text': 'The first 14 odd prime numbers are 3, 5, 7, 11, 13, 17, 19, 23, 29, '\n",
      "         '31, 37, 41, 43, and 47. Their sum is 326.\\n'}\n",
      "-----\n"
     ]
    }
   ],
   "source": [
    "from pprint import pprint\n",
    "\n",
    "config = types.GenerateContentConfig(\n",
    "    tools=[types.Tool(code_execution=types.ToolCodeExecution())],\n",
    ")\n",
    "\n",
    "code_exec_prompt = \"\"\"\n",
    "Generate the first 14 odd prime numbers, then calculate their sum.\n",
    "\"\"\"\n",
    "\n",
    "response = client.models.generate_content(\n",
    "    model='gemini-2.0-flash',\n",
    "    config=config,\n",
    "    contents=code_exec_prompt)\n",
    "\n",
    "for part in response.candidates[0].content.parts:\n",
    "  pprint(part.to_json_dict())\n",
    "  print(\"-----\")"
   ]
  },
  {
   "cell_type": "markdown",
   "id": "ba8994e0",
   "metadata": {
    "id": "ZspT1GSkjG6d",
    "papermill": {
     "duration": 0.015493,
     "end_time": "2025-04-02T11:44:19.280186",
     "exception": false,
     "start_time": "2025-04-02T11:44:19.264693",
     "status": "completed"
    },
    "tags": []
   },
   "source": [
    "This response contains multiple parts, including an opening and closing text part that represent regular responses, an `executable_code` part that represents generated code and a `code_execution_result` part that represents the results from running the generated code.\n",
    "\n",
    "You can explore them individually."
   ]
  },
  {
   "cell_type": "code",
   "execution_count": 34,
   "id": "4de63030",
   "metadata": {
    "execution": {
     "iopub.execute_input": "2025-04-02T11:44:19.313619Z",
     "iopub.status.busy": "2025-04-02T11:44:19.313214Z",
     "iopub.status.idle": "2025-04-02T11:44:19.327126Z",
     "shell.execute_reply": "2025-04-02T11:44:19.325983Z"
    },
    "papermill": {
     "duration": 0.033218,
     "end_time": "2025-04-02T11:44:19.329435",
     "exception": false,
     "start_time": "2025-04-02T11:44:19.296217",
     "status": "completed"
    },
    "tags": []
   },
   "outputs": [
    {
     "data": {
      "text/markdown": [
       "Okay, I can do that. First, I need to identify the first 14 odd prime numbers. Remember that a prime number is a number greater than 1 that has no positive divisors other than 1 and itself. The first few primes are 2, 3, 5, 7, 11, and so on. Since the question asks for odd prime numbers, I will exclude 2 from the list.\n",
       "\n",
       "Then I will calculate their sum.\n",
       "\n"
      ],
      "text/plain": [
       "<IPython.core.display.Markdown object>"
      ]
     },
     "metadata": {},
     "output_type": "display_data"
    },
    {
     "data": {
      "text/markdown": [
       "```python\n",
       "primes = [3, 5, 7, 11, 13, 17, 19, 23, 29, 31, 37, 41, 43, 47]\n",
       "sum_of_primes = sum(primes)\n",
       "print(f'{primes=}')\n",
       "print(f'{sum_of_primes=}')\n",
       "\n",
       "```"
      ],
      "text/plain": [
       "<IPython.core.display.Markdown object>"
      ]
     },
     "metadata": {},
     "output_type": "display_data"
    },
    {
     "data": {
      "text/markdown": [
       "```\n",
       "primes=[3, 5, 7, 11, 13, 17, 19, 23, 29, 31, 37, 41, 43, 47]\n",
       "sum_of_primes=326\n",
       "\n",
       "```"
      ],
      "text/plain": [
       "<IPython.core.display.Markdown object>"
      ]
     },
     "metadata": {},
     "output_type": "display_data"
    },
    {
     "data": {
      "text/markdown": [
       "The first 14 odd prime numbers are 3, 5, 7, 11, 13, 17, 19, 23, 29, 31, 37, 41, 43, and 47. Their sum is 326.\n"
      ],
      "text/plain": [
       "<IPython.core.display.Markdown object>"
      ]
     },
     "metadata": {},
     "output_type": "display_data"
    }
   ],
   "source": [
    "for part in response.candidates[0].content.parts:\n",
    "    if part.text:\n",
    "        display(Markdown(part.text))\n",
    "    elif part.executable_code:\n",
    "        display(Markdown(f'```python\\n{part.executable_code.code}\\n```'))\n",
    "    elif part.code_execution_result:\n",
    "        if part.code_execution_result.outcome != 'OUTCOME_OK':\n",
    "            display(Markdown(f'## Status {part.code_execution_result.outcome}'))\n",
    "\n",
    "        display(Markdown(f'```\\n{part.code_execution_result.output}\\n```'))"
   ]
  },
  {
   "cell_type": "markdown",
   "id": "e886e721",
   "metadata": {
    "id": "1gUX8QzCj4d5",
    "papermill": {
     "duration": 0.016346,
     "end_time": "2025-04-02T11:44:19.362622",
     "exception": false,
     "start_time": "2025-04-02T11:44:19.346276",
     "status": "completed"
    },
    "tags": []
   },
   "source": [
    "### Explaining code\n",
    "\n",
    "The Gemini family of models can explain code to you too. In this example, you pass a [bash script](https://github.com/magicmonty/bash-git-prompt) and ask some questions.\n",
    "\n",
    "<table align=left>\n",
    "  <td>\n",
    "    <a target=\"_blank\" href=\"https://aistudio.google.com/prompts/1N7LGzWzCYieyOf_7bAG4plrmkpDNmUyb\"><img src=\"https://ai.google.dev/site-assets/images/marketing/home/icon-ais.png\" style=\"height: 24px\" height=24/> Open in AI Studio</a>\n",
    "  </td>\n",
    "</table>"
   ]
  },
  {
   "cell_type": "code",
   "execution_count": 35,
   "id": "7cfd2c8e",
   "metadata": {
    "execution": {
     "iopub.execute_input": "2025-04-02T11:44:19.397750Z",
     "iopub.status.busy": "2025-04-02T11:44:19.397396Z",
     "iopub.status.idle": "2025-04-02T11:44:21.280823Z",
     "shell.execute_reply": "2025-04-02T11:44:21.279774Z"
    },
    "id": "7_jPMMoxkIEb",
    "papermill": {
     "duration": 1.903949,
     "end_time": "2025-04-02T11:44:21.283035",
     "exception": false,
     "start_time": "2025-04-02T11:44:19.379086",
     "status": "completed"
    },
    "tags": []
   },
   "outputs": [
    {
     "data": {
      "text/markdown": [
       "This is a shell script designed to enhance your command-line prompt with information about the current Git repository. In simple terms, it makes your prompt display things like the branch you're on, whether you have uncommitted changes, and how your local branch compares to the remote.\n",
       "\n",
       "Here's a breakdown:\n",
       "\n",
       "*   **What it does:** The script defines functions that gather information about the Git repository you're currently in (if any) and then format that information to be displayed in your command prompt. It allows you to customize the appearance of this information using themes and settings.\n",
       "\n",
       "*   **Why you'd use it:**\n",
       "    *   **At-a-glance Git status:** Quickly see the state of your repository without having to run `git status` manually. This saves you time and helps you stay aware of changes.\n",
       "    *   **Improved workflow:** A more informative prompt can help you avoid mistakes, like committing to the wrong branch or forgetting to stage changes.\n",
       "    *   **Customization:** The script is designed to be highly customizable, allowing you to change the colors, symbols, and information displayed to suit your preferences.\n",
       "\n",
       "In essence, it's a tool to make your command-line environment more Git-aware, increasing your efficiency and reducing errors when working with Git repositories.\n"
      ],
      "text/plain": [
       "<IPython.core.display.Markdown object>"
      ]
     },
     "execution_count": 35,
     "metadata": {},
     "output_type": "execute_result"
    }
   ],
   "source": [
    "file_contents = !curl https://raw.githubusercontent.com/magicmonty/bash-git-prompt/refs/heads/master/gitprompt.sh\n",
    "\n",
    "explain_prompt = f\"\"\"\n",
    "Please explain what this file does at a very high level. What is it, and why would I use it?\n",
    "\n",
    "```\n",
    "{file_contents}\n",
    "```\n",
    "\"\"\"\n",
    "\n",
    "response = client.models.generate_content(\n",
    "    model='gemini-2.0-flash',\n",
    "    contents=explain_prompt)\n",
    "\n",
    "Markdown(response.text)"
   ]
  },
  {
   "cell_type": "markdown",
   "id": "6f6fc066",
   "metadata": {
    "id": "2a8266d97ce5",
    "papermill": {
     "duration": 0.015921,
     "end_time": "2025-04-02T11:44:21.315307",
     "exception": false,
     "start_time": "2025-04-02T11:44:21.299386",
     "status": "completed"
    },
    "tags": []
   },
   "source": [
    "## Learn more\n",
    "\n",
    "To learn more about prompting in depth:\n",
    "\n",
    "* Check out the whitepaper issued with today's content,\n",
    "* Try out the apps listed at the top of this notebook ([TextFX](https://textfx.withgoogle.com/), [SQL Talk](https://sql-talk-r5gdynozbq-uc.a.run.app/) and [NotebookLM](https://notebooklm.google/)),\n",
    "* Read the [Introduction to Prompting](https://ai.google.dev/gemini-api/docs/prompting-intro) from the Gemini API docs,\n",
    "* Explore the Gemini API's [prompt gallery](https://ai.google.dev/gemini-api/prompts) and try them out in AI Studio,\n",
    "* Check out the Gemini API cookbook for [inspirational examples](https://github.com/google-gemini/cookbook/blob/main/examples/) and [educational quickstarts](https://github.com/google-gemini/cookbook/blob/main/quickstarts/).\n",
    "\n",
    "Be sure to check out the codelabs on day 3 too, where you will explore some more advanced prompting with code execution.\n",
    "\n",
    "And please share anything exciting you have tried in the Discord!\n",
    "\n",
    "*- [Mark McD](https://linktr.ee/markmcd)*"
   ]
  }
 ],
 "metadata": {
  "colab": {
   "name": "day-1-prompting.ipynb",
   "toc_visible": true
  },
  "kaggle": {
   "accelerator": "none",
   "dataSources": [],
   "dockerImageVersionId": 30786,
   "isGpuEnabled": false,
   "isInternetEnabled": true,
   "language": "python",
   "sourceType": "notebook"
  },
  "kernelspec": {
   "display_name": "Python 3",
   "language": "python",
   "name": "python3"
  },
  "language_info": {
   "codemirror_mode": {
    "name": "ipython",
    "version": 3
   },
   "file_extension": ".py",
   "mimetype": "text/x-python",
   "name": "python",
   "nbconvert_exporter": "python",
   "pygments_lexer": "ipython3",
   "version": "3.10.14"
  },
  "papermill": {
   "default_parameters": {},
   "duration": 162.208668,
   "end_time": "2025-04-02T11:44:21.952809",
   "environment_variables": {},
   "exception": null,
   "input_path": "__notebook__.ipynb",
   "output_path": "__notebook__.ipynb",
   "parameters": {},
   "start_time": "2025-04-02T11:41:39.744141",
   "version": "2.6.0"
  }
 },
 "nbformat": 4,
 "nbformat_minor": 5
}
